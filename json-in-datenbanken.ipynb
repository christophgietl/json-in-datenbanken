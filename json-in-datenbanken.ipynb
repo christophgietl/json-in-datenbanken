{
 "cells": [
  {
   "cell_type": "markdown",
   "id": "33146c82-0340-41cd-a3e4-de60e68e36fd",
   "metadata": {
    "tags": []
   },
   "source": [
    "# JSON-Unterstützung in Datenbanken"
   ]
  },
  {
   "cell_type": "markdown",
   "id": "53eee6ab-8549-4b14-8fa9-608b8b420cf3",
   "metadata": {
    "jp-MarkdownHeadingCollapsed": true,
    "tags": []
   },
   "source": [
    "## JSON - Das Quiz"
   ]
  },
  {
   "cell_type": "markdown",
   "id": "869adf8d-2a39-486a-8454-9b35f8d558ed",
   "metadata": {
    "tags": []
   },
   "source": [
    "## JSON-Unterstützung in dokumentenorientierten Datenbanken (am Beispiel von MongoDB)"
   ]
  },
  {
   "cell_type": "markdown",
   "id": "66867df8-08b2-484d-a54f-61dd7fa95b57",
   "metadata": {},
   "source": [
    "TODO: MongoDB beschreiben."
   ]
  },
  {
   "cell_type": "markdown",
   "id": "f98e5612-542b-4d5b-85ac-c26d1a917464",
   "metadata": {},
   "source": [
    "TODO: Beispiel beschreiben: Nutzer:innenprofile in einer Stellenbörse.\n",
    "Wir benutzen dafür die MongoDB-Instanz `demo-mongo`."
   ]
  },
  {
   "cell_type": "markdown",
   "id": "fc605de9-ad2a-4229-936c-2e17bd05b462",
   "metadata": {
    "tags": []
   },
   "source": [
    "### Datenbankverbindungen verwalten"
   ]
  },
  {
   "cell_type": "markdown",
   "id": "d2e265eb-70e4-4b1b-a05b-42f6a73c2492",
   "metadata": {},
   "source": [
    "Das Paket `pymongo` steht unter der Apache Software License 2.0.\n",
    "Es erlaubt die Nutzung von MongoDB in Python.\n",
    "\n",
    "Die wichtigste Klasse des Pakets heißt `pymongo.MongoClient`.\n",
    "Sie ermöglicht den Zugriff auf MongoDB-Instanzen."
   ]
  },
  {
   "cell_type": "markdown",
   "id": "6d55998b-a906-4f86-be00-4628f0f2b7a1",
   "metadata": {
    "tags": []
   },
   "source": [
    "##### Beispiel"
   ]
  },
  {
   "cell_type": "code",
   "execution_count": 1,
   "id": "4abf4d62-36eb-4c29-9bdc-b4bfa3dd8aff",
   "metadata": {},
   "outputs": [
    {
     "name": "stdout",
     "output_type": "stream",
     "text": [
      "Requirement already satisfied: pymongo~=4.1.1 in /opt/conda/lib/python3.9/site-packages (4.1.1)\n"
     ]
    }
   ],
   "source": [
    "!pip install pymongo~=4.1.1"
   ]
  },
  {
   "cell_type": "code",
   "execution_count": 2,
   "id": "0320e5f7-e46f-4b7a-8f6b-8a4cc4e0ee25",
   "metadata": {
    "tags": []
   },
   "outputs": [],
   "source": [
    "import pymongo\n",
    "demo_mongo_client = pymongo.MongoClient(\"mongodb://demo-mongo\")"
   ]
  },
  {
   "cell_type": "markdown",
   "id": "9f11326c-9c00-4917-9e25-bc47fe3897cb",
   "metadata": {
    "tags": []
   },
   "source": [
    "### Dokumente organisieren"
   ]
  },
  {
   "cell_type": "markdown",
   "id": "693462c9-63fb-4c9d-b9da-8a86b57f5105",
   "metadata": {},
   "source": [
    "Jede MongoDB-Instanz verwaltet ihre Dokumente in einer dreistufigen Hierarchie:\n",
    "\n",
    "1. MongoDB-Instanzen enthalten Datenbanken.\n",
    "2. Datenbanken enthalten Collections.\n",
    "3. Collections enthalten Dokumente.\n",
    "\n",
    "Datenbanken und Collections müssen nicht explizit angelegt werden.\n",
    "Sie werden automatisch angelegt, wenn zum ersten Mal auf sie zugegriffen wird."
   ]
  },
  {
   "cell_type": "markdown",
   "id": "aed000a3-24c7-4bda-9950-865c44371c13",
   "metadata": {
    "tags": []
   },
   "source": [
    "##### Beispiel"
   ]
  },
  {
   "cell_type": "markdown",
   "id": "789214ff-7e4e-4d0c-a220-8c634278e66d",
   "metadata": {},
   "source": [
    "Wir verwalten die Dokumente unserer Stellenbörse in der Datenbank `employment`:"
   ]
  },
  {
   "cell_type": "code",
   "execution_count": 3,
   "id": "95d56ea7-2f40-42cc-a050-1e4fe4089a87",
   "metadata": {
    "tags": []
   },
   "outputs": [
    {
     "data": {
      "text/plain": [
       "pymongo.database.Database"
      ]
     },
     "execution_count": 3,
     "metadata": {},
     "output_type": "execute_result"
    }
   ],
   "source": [
    "employment = demo_mongo_client[\"employment\"]\n",
    "type(employment)"
   ]
  },
  {
   "cell_type": "markdown",
   "id": "77c26304-b149-4ead-98e8-e3c7e8423dfa",
   "metadata": {},
   "source": [
    "Die Nutzer:innenprofile speichern wir in der Collection `users`:"
   ]
  },
  {
   "cell_type": "code",
   "execution_count": 4,
   "id": "77e8ba58-9fce-4d30-8e38-de09972c25c9",
   "metadata": {
    "tags": []
   },
   "outputs": [
    {
     "data": {
      "text/plain": [
       "pymongo.collection.Collection"
      ]
     },
     "execution_count": 4,
     "metadata": {},
     "output_type": "execute_result"
    }
   ],
   "source": [
    "users = employment[\"users\"]\n",
    "type(users)"
   ]
  },
  {
   "cell_type": "markdown",
   "id": "8e3a729e-1993-4685-97ad-d21becf0605d",
   "metadata": {},
   "source": [
    "Zu Beginn unseres Beispiels stellen wir sicher, dass die Collection `users` leer ist: "
   ]
  },
  {
   "cell_type": "code",
   "execution_count": 5,
   "id": "db089934-7ebd-493b-9e10-b79287820b5a",
   "metadata": {
    "tags": []
   },
   "outputs": [],
   "source": [
    "users.drop()"
   ]
  },
  {
   "cell_type": "markdown",
   "id": "f7cbf03f-ec06-41ae-906a-f5779261bce6",
   "metadata": {
    "tags": []
   },
   "source": [
    "### Dokumente einfügen"
   ]
  },
  {
   "cell_type": "markdown",
   "id": "ffd4433f-454b-44b6-82fe-a25902d96cd8",
   "metadata": {},
   "source": [
    "Die Methode `insert_one` der Klasse `pymongo.collection.Collection` fügt ein JSON-Objekt zur Collection hinzu.\n",
    "\n",
    "Falls das JSON-Objekt ein Attribut mit dem Namen `_id` enthält, verwendet MongoDB dieses Attribut als Primärschlüssel.\n",
    "\n",
    "Falls nicht, erzeugt MongoDB einen Primärschlüssel und fügt ihn als Attribut mit dem Namen `_id` hinzu."
   ]
  },
  {
   "cell_type": "code",
   "execution_count": 6,
   "id": "164d17fc-6b39-41dd-a6f6-0215f6ac80d2",
   "metadata": {},
   "outputs": [
    {
     "data": {
      "text/plain": [
       "<pymongo.results.InsertOneResult at 0x7f8f5838b520>"
      ]
     },
     "execution_count": 6,
     "metadata": {},
     "output_type": "execute_result"
    }
   ],
   "source": [
    "users.insert_one({\n",
    "    \"_id\": 251,\n",
    "    \"first_name\": \"Bill\",\n",
    "    \"last_name\": \"Gates\",\n",
    "    \"summary\": \"Co-chair of the Bill & Melinda Gates... Active blogger.\",\n",
    "    \"region\": \"Greater Seattle Area\",\n",
    "    \"industry\": \"Philanthropy\",\n",
    "    \"positions\": [\n",
    "        {\"job_title\": \"Co-chair\", \"organization\": \"Bill & Melinda Gates Foundation\"},\n",
    "        {\"job_title\": \"Co-founder, Chairman\", \"organization\": \"Microsoft\"}\n",
    "    ],\n",
    "    \"education\": [\n",
    "        {\"school_name\": \"Harvard University\", \"start\": 1973, \"end\": 1975},\n",
    "        {\"school_name\": \"Lakeside School, Seattle\"}\n",
    "    ],\n",
    "    \"contact_info\": {\n",
    "        \"blog\": \"https://www.gatesnotes.com/\",\n",
    "        \"twitter\": \"https://twitter.com/BillGates\"\n",
    "    }\n",
    "})"
   ]
  },
  {
   "cell_type": "markdown",
   "id": "3c4ce7f2-c3b7-46f3-b7a0-b5a994e124e7",
   "metadata": {
    "tags": []
   },
   "source": [
    "### Dokumenten abfragen"
   ]
  },
  {
   "cell_type": "markdown",
   "id": "9016cfeb-84f5-4715-bc11-0f785982e87f",
   "metadata": {
    "tags": []
   },
   "source": [
    "#### Alle Dokumente abfragen"
   ]
  },
  {
   "cell_type": "markdown",
   "id": "a3064c63-897d-484e-9c3b-e2e7fb690032",
   "metadata": {},
   "source": [
    "Die Methode `find` der Klasse `pymongo.collection.Collection` liefert einen Cursor als Rückgabewert:"
   ]
  },
  {
   "cell_type": "code",
   "execution_count": 7,
   "id": "627c8780-8629-4ff2-b6b2-1ea47c9f3b1e",
   "metadata": {},
   "outputs": [
    {
     "data": {
      "text/plain": [
       "<pymongo.cursor.Cursor at 0x7f8f3a9cddc0>"
      ]
     },
     "execution_count": 7,
     "metadata": {},
     "output_type": "execute_result"
    }
   ],
   "source": [
    "documents = users.find({})\n",
    "documents"
   ]
  },
  {
   "cell_type": "markdown",
   "id": "50a9e40d-225b-43c8-b070-0092fcf28c30",
   "metadata": {},
   "source": [
    "Wir konstruieren eine Liste, um die Ergebnisse der Abfrage zu erhalten:"
   ]
  },
  {
   "cell_type": "code",
   "execution_count": 8,
   "id": "bb952498-1afb-40b5-af39-0cb8b4c53f80",
   "metadata": {},
   "outputs": [
    {
     "data": {
      "text/plain": [
       "[{'_id': 251,\n",
       "  'first_name': 'Bill',\n",
       "  'last_name': 'Gates',\n",
       "  'summary': 'Co-chair of the Bill & Melinda Gates... Active blogger.',\n",
       "  'region': 'Greater Seattle Area',\n",
       "  'industry': 'Philanthropy',\n",
       "  'positions': [{'job_title': 'Co-chair',\n",
       "    'organization': 'Bill & Melinda Gates Foundation'},\n",
       "   {'job_title': 'Co-founder, Chairman', 'organization': 'Microsoft'}],\n",
       "  'education': [{'school_name': 'Harvard University',\n",
       "    'start': 1973,\n",
       "    'end': 1975},\n",
       "   {'school_name': 'Lakeside School, Seattle'}],\n",
       "  'contact_info': {'blog': 'https://www.gatesnotes.com/',\n",
       "   'twitter': 'https://twitter.com/BillGates'}}]"
      ]
     },
     "execution_count": 8,
     "metadata": {},
     "output_type": "execute_result"
    }
   ],
   "source": [
    "list(documents)"
   ]
  },
  {
   "cell_type": "markdown",
   "id": "e56d4ca0-f4a0-4d8f-a49b-b526207ace4f",
   "metadata": {
    "tags": []
   },
   "source": [
    "#### Felder einschränken"
   ]
  },
  {
   "cell_type": "markdown",
   "id": "01e56cee-1224-4eb1-95b1-28d539cb8165",
   "metadata": {},
   "source": [
    "Die Methode `find` nimmt ein zweites Argument entgegen.\n",
    "Mit diesem Argument weisen wir MongoDB an, nur bestimmte Felder der Dokumente zurückzugeben."
   ]
  },
  {
   "cell_type": "code",
   "execution_count": 9,
   "id": "f7167371-43a7-43ee-8f0e-9ef615c00dc2",
   "metadata": {},
   "outputs": [
    {
     "data": {
      "text/plain": [
       "[{'_id': 251,\n",
       "  'first_name': 'Bill',\n",
       "  'positions': [{'organization': 'Bill & Melinda Gates Foundation'},\n",
       "   {'organization': 'Microsoft'}]}]"
      ]
     },
     "execution_count": 9,
     "metadata": {},
     "output_type": "execute_result"
    }
   ],
   "source": [
    "documents = users.find({}, {\"first_name\": 1, \"positions.organization\": 1})\n",
    "list(documents)"
   ]
  },
  {
   "cell_type": "markdown",
   "id": "c08c61fa-26f2-44e0-99a7-5aa2266463d0",
   "metadata": {},
   "source": [
    "Mit dem Punkt in `positions.organization` konnten wir auf das Attribut `organization` der Objekte im Attribut `positions` zugreifen.\n",
    "Da es sich bei `positions` um ein Array von Objekten handelt, haben wir auch ein Array von Objekten erhalten (mit dem einizigen Attribut `organization`)."
   ]
  },
  {
   "cell_type": "markdown",
   "id": "79a94aef-7818-4bc4-8d40-057fb5a75cb6",
   "metadata": {},
   "source": [
    "Zusätzlich zu den von uns spezifizierten Attributen `first_name` und `positions.organization` haben wir noch den Primärschlüssel `_id` erhalten.\n",
    "Wenn wir den Primärschlüssel nicht erhalten wollen, müssen wir ihn explizit ausschließen:"
   ]
  },
  {
   "cell_type": "code",
   "execution_count": 10,
   "id": "b236fca4-aace-422e-a175-b35110d6162c",
   "metadata": {},
   "outputs": [
    {
     "data": {
      "text/plain": [
       "[{'first_name': 'Bill', 'last_name': 'Gates'}]"
      ]
     },
     "execution_count": 10,
     "metadata": {},
     "output_type": "execute_result"
    }
   ],
   "source": [
    "names_only = {\"_id\": 0, \"first_name\": 1, \"last_name\": 1}\n",
    "documents = users.find({}, names_only)\n",
    "list(documents)"
   ]
  },
  {
   "cell_type": "markdown",
   "id": "218a0da4-a9bc-414a-b1c0-7cc362c97aa6",
   "metadata": {
    "tags": []
   },
   "source": [
    "#### Dokumente einschränken"
   ]
  },
  {
   "cell_type": "markdown",
   "id": "22a64972-db6f-4a9c-b5b8-02af0680778d",
   "metadata": {},
   "source": [
    "Neben den Feldern können wir auch einschränken, welche Dokumente der Collection die Methode `find` zurückgeben soll."
   ]
  },
  {
   "cell_type": "markdown",
   "id": "3d8bea4c-ef56-4a6d-86fe-5f5f6c925a7a",
   "metadata": {},
   "source": [
    "Wenn wir nach einem bestimmten Primärschlüssel suchen, erhalten wir maximal ein Dokument:"
   ]
  },
  {
   "cell_type": "code",
   "execution_count": 11,
   "id": "860a331c-8a8c-4eea-9657-f1f369643e57",
   "metadata": {},
   "outputs": [
    {
     "data": {
      "text/plain": [
       "[{'first_name': 'Bill', 'last_name': 'Gates'}]"
      ]
     },
     "execution_count": 11,
     "metadata": {},
     "output_type": "execute_result"
    }
   ],
   "source": [
    "documents = users.find({\"_id\": 251}, names_only)\n",
    "list(documents)"
   ]
  },
  {
   "cell_type": "code",
   "execution_count": 12,
   "id": "33bb8b3a-a430-4536-9203-9146404ac7a5",
   "metadata": {},
   "outputs": [
    {
     "data": {
      "text/plain": [
       "[]"
      ]
     },
     "execution_count": 12,
     "metadata": {},
     "output_type": "execute_result"
    }
   ],
   "source": [
    "documents = users.find({\"_id\": 12}, names_only)\n",
    "list(documents)"
   ]
  },
  {
   "cell_type": "markdown",
   "id": "c505a11d-8f59-4a32-81bb-4f1521e1d147",
   "metadata": {},
   "source": [
    "Neben dem Primärschlüssel können wir auch nach anderen Attributen suchen:"
   ]
  },
  {
   "cell_type": "code",
   "execution_count": 13,
   "id": "bcb3c714-fa06-49b1-9d31-2930d8467a47",
   "metadata": {},
   "outputs": [
    {
     "data": {
      "text/plain": [
       "[{'first_name': 'Bill', 'last_name': 'Gates'}]"
      ]
     },
     "execution_count": 13,
     "metadata": {},
     "output_type": "execute_result"
    }
   ],
   "source": [
    "# Alle Dokumente mit dem Attribut last_name=\"Gates\":\n",
    "documents = users.find({\"last_name\": \"Gates\"}, names_only)\n",
    "list(documents)"
   ]
  },
  {
   "cell_type": "markdown",
   "id": "27850edd-c933-47e6-8c02-a72f28c0150a",
   "metadata": {},
   "source": [
    "Mit dem Punkt können wir auch nach Attributen von Unterobjekten suchen:"
   ]
  },
  {
   "cell_type": "code",
   "execution_count": 14,
   "id": "d440f3f6-1738-46ce-be4f-a608be7b78bd",
   "metadata": {},
   "outputs": [
    {
     "data": {
      "text/plain": [
       "[{'_id': 251,\n",
       "  'first_name': 'Bill',\n",
       "  'last_name': 'Gates',\n",
       "  'summary': 'Co-chair of the Bill & Melinda Gates... Active blogger.',\n",
       "  'region': 'Greater Seattle Area',\n",
       "  'industry': 'Philanthropy',\n",
       "  'positions': [{'job_title': 'Co-chair',\n",
       "    'organization': 'Bill & Melinda Gates Foundation'},\n",
       "   {'job_title': 'Co-founder, Chairman', 'organization': 'Microsoft'}],\n",
       "  'education': [{'school_name': 'Harvard University',\n",
       "    'start': 1973,\n",
       "    'end': 1975},\n",
       "   {'school_name': 'Lakeside School, Seattle'}],\n",
       "  'contact_info': {'blog': 'https://www.gatesnotes.com/',\n",
       "   'twitter': 'https://twitter.com/BillGates'}}]"
      ]
     },
     "execution_count": 14,
     "metadata": {},
     "output_type": "execute_result"
    }
   ],
   "source": [
    "documents = users.find(\n",
    "    {\"contact_info.twitter\": \"https://twitter.com/BillGates\"}\n",
    ")\n",
    "list(documents)"
   ]
  },
  {
   "cell_type": "markdown",
   "id": "55da7e5d-0144-4db6-bba1-e9fbf0e5b8a4",
   "metadata": {},
   "source": [
    "Wenn das Attribut links des Punkts den Typ Array hat, genügt es, wenn eines der Elemente ein Objekt mit dem gewünschten Attribut ist:"
   ]
  },
  {
   "cell_type": "code",
   "execution_count": 15,
   "id": "2229aecd-dffe-4b8d-b7e0-231a24584f34",
   "metadata": {},
   "outputs": [
    {
     "data": {
      "text/plain": [
       "[{'first_name': 'Bill',\n",
       "  'last_name': 'Gates',\n",
       "  'positions': [{'job_title': 'Co-chair',\n",
       "    'organization': 'Bill & Melinda Gates Foundation'},\n",
       "   {'job_title': 'Co-founder, Chairman', 'organization': 'Microsoft'}]}]"
      ]
     },
     "execution_count": 15,
     "metadata": {},
     "output_type": "execute_result"
    }
   ],
   "source": [
    "documents = users.find(\n",
    "    {\"positions.organization\": \"Microsoft\"},\n",
    "    {\"_id\": 0, \"first_name\": 1, \"last_name\": 1, \"positions\": 1}\n",
    ")\n",
    "list(documents)"
   ]
  },
  {
   "cell_type": "markdown",
   "id": "e3121505-25c2-4785-b443-91d0aa75f8d2",
   "metadata": {},
   "source": [
    "Wir wollen nun alle Dokumente finden, deren Attribut `education`\n",
    "1. den Typ Array hat und\n",
    "2. ein oder mehrere bestimmte Elemente enthält.\n",
    "\n",
    "Dafür benötigen wir den Operator `$all`:"
   ]
  },
  {
   "cell_type": "code",
   "execution_count": 16,
   "id": "14c3555e-687b-45da-9bd2-fc6651368d72",
   "metadata": {},
   "outputs": [
    {
     "data": {
      "text/plain": [
       "[{'first_name': 'Bill',\n",
       "  'last_name': 'Gates',\n",
       "  'education': [{'school_name': 'Harvard University',\n",
       "    'start': 1973,\n",
       "    'end': 1975},\n",
       "   {'school_name': 'Lakeside School, Seattle'}]}]"
      ]
     },
     "execution_count": 16,
     "metadata": {},
     "output_type": "execute_result"
    }
   ],
   "source": [
    "documents = users.find(\n",
    "    {\"education\": {\"$all\": [{\"school_name\": \"Lakeside School, Seattle\"}]}},\n",
    "    {\"_id\": 0, \"first_name\": 1, \"last_name\": 1, \"education\": 1}\n",
    ")\n",
    "list(documents)"
   ]
  },
  {
   "cell_type": "markdown",
   "id": "f640c12f-98ad-4188-9c6c-5a4f1148b817",
   "metadata": {
    "tags": []
   },
   "source": [
    "### Dokumente verändern"
   ]
  },
  {
   "cell_type": "markdown",
   "id": "557f5d55-8d53-4d32-bc4a-ffbccd248982",
   "metadata": {},
   "source": [
    "Die Methode `update_many` der Klasse `pymongo.collection.Collection` ermöglicht das Verändern von Dokumenten:"
   ]
  },
  {
   "cell_type": "code",
   "execution_count": 17,
   "id": "5d495e3f-4377-4d6c-a185-fe3de3900f24",
   "metadata": {},
   "outputs": [
    {
     "data": {
      "text/plain": [
       "[{'first_name': 'William', 'last_name': 'Gates'}]"
      ]
     },
     "execution_count": 17,
     "metadata": {},
     "output_type": "execute_result"
    }
   ],
   "source": [
    "users.update_many({\"_id\": 251}, {\"$set\": {\"first_name\": \"William\"}})\n",
    "documents = users.find({\"_id\": 251}, names_only)\n",
    "list(documents)"
   ]
  },
  {
   "cell_type": "markdown",
   "id": "9f79d839-29c9-47e8-8fea-89806f67af50",
   "metadata": {
    "tags": []
   },
   "source": [
    "### Dokumente löschen"
   ]
  },
  {
   "cell_type": "markdown",
   "id": "9a2827cf-0fcc-4114-8b7f-3ebb73456b73",
   "metadata": {},
   "source": [
    "Die Methode `delete_many` der Klasse `pymongo.collection.Collection` ermöglicht das Löschen von Dokumenten:"
   ]
  },
  {
   "cell_type": "code",
   "execution_count": 18,
   "id": "23742514-c1d1-4ce8-a98f-e0e797ddb91b",
   "metadata": {},
   "outputs": [
    {
     "data": {
      "text/plain": [
       "[]"
      ]
     },
     "execution_count": 18,
     "metadata": {},
     "output_type": "execute_result"
    }
   ],
   "source": [
    "users.delete_many({\"last_name\": \"Gates\"})\n",
    "documents = users.find({\"_id\": 251}, names_only)\n",
    "list(documents)"
   ]
  },
  {
   "cell_type": "markdown",
   "id": "972c6006-b3d4-4055-9b2e-695df763992c",
   "metadata": {
    "tags": []
   },
   "source": [
    "### Referenzen zwischen Dokumenten"
   ]
  },
  {
   "cell_type": "markdown",
   "id": "e990df57-fe93-4216-a9b3-3ba22d22388b",
   "metadata": {},
   "source": [
    "Mit wachsender Nutzer:innenzahl der Stellenbörse, wollen wir unsere Nutzer:innen-Dokumente normalisieren.\n",
    "Das heißt, wir wollen\n",
    "1. einzelne Informationen der Nutzer:innen in eigene Collections auslagern (bspw. die Branche (`industry`)) und\n",
    "2. das Dokument der jeweiligen Branche im Dokument des:der Nutzer:in referenzieren."
   ]
  },
  {
   "cell_type": "markdown",
   "id": "2ec999d8-2b47-4339-aebf-d9218b911c5b",
   "metadata": {},
   "source": [
    "Dafür legen wir die Collection `industries` an:"
   ]
  },
  {
   "cell_type": "code",
   "execution_count": 19,
   "id": "d3781134-159d-425b-b587-0af17705779d",
   "metadata": {},
   "outputs": [
    {
     "data": {
      "text/plain": [
       "<pymongo.results.InsertManyResult at 0x7f8f39170190>"
      ]
     },
     "execution_count": 19,
     "metadata": {},
     "output_type": "execute_result"
    }
   ],
   "source": [
    "industries = employment[\"industries\"]\n",
    "industries.drop()\n",
    "industries.insert_many([\n",
    "    {\"_id\": 43, \"name\": \"Financial Services\", \"description\": \"Banking, etc.\"},\n",
    "    {\"_id\": 48, \"name\": \"Construction\"},\n",
    "    {\"_id\": 131, \"name\": \"Philanthropy\"}\n",
    "])"
   ]
  },
  {
   "cell_type": "markdown",
   "id": "4b7413eb-386f-4c55-8f2b-6e9a3953492b",
   "metadata": {},
   "source": [
    "Außerdem legen wir die Collection `regions` an:"
   ]
  },
  {
   "cell_type": "code",
   "execution_count": 20,
   "id": "b95ecf65-7ac5-4cb0-8c9b-7092a570ff11",
   "metadata": {},
   "outputs": [
    {
     "data": {
      "text/plain": [
       "<pymongo.results.InsertManyResult at 0x7f8f39170970>"
      ]
     },
     "execution_count": 20,
     "metadata": {},
     "output_type": "execute_result"
    }
   ],
   "source": [
    "regions = employment[\"regions\"]\n",
    "regions.drop()\n",
    "regions.insert_many([\n",
    "    {\"_id\": \"us:7\", \"name\": \"Greater Boston Area\"},\n",
    "    {\"_id\": \"us:91\", \"name\": \"Greater Seattle Area\", \"state\": \"Washington\"}\n",
    "])"
   ]
  },
  {
   "cell_type": "markdown",
   "id": "6a36ac1b-53bb-4f1e-8fee-4b27a428edd9",
   "metadata": {},
   "source": [
    "Wir fügen nun einen Nutzer hinzu, dessen Attribute `industry` und `region` auf jeweils ein Dokument der entsprechenden Collection verweisen:"
   ]
  },
  {
   "cell_type": "code",
   "execution_count": 21,
   "id": "14cbaa62-ee53-42fa-94de-2ed7de5e167c",
   "metadata": {},
   "outputs": [
    {
     "data": {
      "text/plain": [
       "<pymongo.results.InsertOneResult at 0x7f8f39165d00>"
      ]
     },
     "execution_count": 21,
     "metadata": {},
     "output_type": "execute_result"
    }
   ],
   "source": [
    "import bson.dbref\n",
    "users.insert_one({\n",
    "    \"_id\": 251,\n",
    "    \"first_name\": \"Bill\",\n",
    "    \"last_name\": \"Gates\",\n",
    "    \"summary\": \"Co-chair of the Bill & Melinda Gates... Active blogger.\",\n",
    "    \"region\": bson.dbref.DBRef(collection=regions.name, id=\"us:91\"),\n",
    "    \"industry\": bson.dbref.DBRef(collection=industries.name, id=\"131\"),\n",
    "    \"positions\": [\n",
    "        {\"job_title\": \"Co-chair\", \"organization\": \"Bill & Melinda Gates Foundation\"},\n",
    "        {\"job_title\": \"Co-founder, Chairman\", \"organization\": \"Microsoft\"}\n",
    "    ],\n",
    "    \"education\": [\n",
    "        {\"school_name\": \"Harvard University\", \"start\": 1973, \"end\": 1975},\n",
    "        {\"school_name\": \"Lakeside School, Seattle\"}\n",
    "    ],\n",
    "    \"contact_info\": {\n",
    "        \"blog\": \"https://www.gatesnotes.com/\",\n",
    "        \"twitter\": \"https://twitter.com/BillGates\"\n",
    "    }\n",
    "})"
   ]
  },
  {
   "cell_type": "markdown",
   "id": "339af0a8-5ce7-4551-9bd1-8652b9f82d06",
   "metadata": {},
   "source": [
    "Eine Abfrage dieses Nutzers liefert keinen menschenlesbaren Namen der Region.\n",
    "Stattdessen wird ein Fremdschlüssel auf die Collection `regions` geliefert:"
   ]
  },
  {
   "cell_type": "code",
   "execution_count": 22,
   "id": "579fc3ea-2406-4da8-8811-7ff188ccd821",
   "metadata": {},
   "outputs": [
    {
     "data": {
      "text/plain": [
       "{'last_name': 'Gates', 'region': DBRef('regions', 'us:91')}"
      ]
     },
     "execution_count": 22,
     "metadata": {},
     "output_type": "execute_result"
    }
   ],
   "source": [
    "user_251 = users.find_one({\"_id\": 251}, {\"_id\": 0, \"last_name\": 1, \"region\": 1})\n",
    "user_251"
   ]
  },
  {
   "cell_type": "markdown",
   "id": "9c3756d3-cbb2-44ff-961c-2f7d7fd7a1ba",
   "metadata": {},
   "source": [
    "Dieser Fremdschlüssel muss von der Anwendung aufgelöst werden.\n",
    "Die Klasse `pymongo.database.Database` stellt dafür die Methode `dereference` bereit:"
   ]
  },
  {
   "cell_type": "code",
   "execution_count": 23,
   "id": "b5173dfe-9821-4ace-9c12-3d83174b1d67",
   "metadata": {},
   "outputs": [
    {
     "data": {
      "text/plain": [
       "{'_id': 'us:91', 'name': 'Greater Seattle Area', 'state': 'Washington'}"
      ]
     },
     "execution_count": 23,
     "metadata": {},
     "output_type": "execute_result"
    }
   ],
   "source": [
    "employment.dereference(user_251[\"region\"])"
   ]
  },
  {
   "cell_type": "markdown",
   "id": "ab026e11-7737-41a5-865f-c2f461525d80",
   "metadata": {},
   "source": [
    "Wir haben zwei Datenbank-Abfragen benötigt, um den Namen der Region des Nutzers mit dem Primärschlüssel `251` zu finden:\n",
    "1. Finde das Dokument mit dem Primärschlüssel `251` in der Collection `users`.\n",
    "2. Finde das Dokument mit dem Primärschlüssel `us:91` in der Collection `regions`.\n",
    "\n",
    "Relationale Datenbankmanagementsysteme erlauben die Verbindung zweier Tabellen in einer Abfrage mithilfe des `join`-Statements.\n",
    "Eine vergleichbare Verbindung zweier Collections in einer Abfrage wird von MongoDB nicht unterstützt."
   ]
  },
  {
   "cell_type": "markdown",
   "id": "30446b00-638b-42a2-b17c-e7cd2f4eebb2",
   "metadata": {
    "tags": []
   },
   "source": [
    "## JSON-Unterstützung in relationalen Datenbanken (am Beispiel von PostgreSQL)"
   ]
  },
  {
   "cell_type": "markdown",
   "id": "df552313-ec1f-422e-b7f4-f4bf1d1681e5",
   "metadata": {
    "jp-MarkdownHeadingCollapsed": true,
    "tags": []
   },
   "source": [
    "### Datenbankverbindungen verwalten"
   ]
  },
  {
   "cell_type": "markdown",
   "id": "55eb8420-7b6d-4ad9-bd0a-98c9c539df9b",
   "metadata": {},
   "source": [
    "##### Beispiel"
   ]
  },
  {
   "cell_type": "code",
   "execution_count": 24,
   "id": "3101dc00-fa90-46df-ad8c-5cd5752ce174",
   "metadata": {},
   "outputs": [
    {
     "name": "stdout",
     "output_type": "stream",
     "text": [
      "Requirement already satisfied: psycopg[binary]~=3.0.13 in /opt/conda/lib/python3.9/site-packages (3.0.14)\n",
      "Requirement already satisfied: psycopg-binary==3.0.14 in /opt/conda/lib/python3.9/site-packages (from psycopg[binary]~=3.0.13) (3.0.14)\n"
     ]
    }
   ],
   "source": [
    "!pip install psycopg[binary]~=3.0.13"
   ]
  },
  {
   "cell_type": "code",
   "execution_count": 25,
   "id": "6598932a-a80d-4368-b772-46b93314ffbd",
   "metadata": {},
   "outputs": [],
   "source": [
    "import psycopg\n",
    "conn = psycopg.connect(\"postgresql://postgres@demo-postgres/postgres\", autocommit=True)\n",
    "cur = conn.cursor()"
   ]
  },
  {
   "cell_type": "markdown",
   "id": "aa75a352-4dce-4252-a60e-4010565b2020",
   "metadata": {
    "jp-MarkdownHeadingCollapsed": true,
    "tags": []
   },
   "source": [
    "### Dokumente organisieren"
   ]
  },
  {
   "cell_type": "markdown",
   "id": "cb8c4a0e-d763-4996-ac56-e4285489e91b",
   "metadata": {},
   "source": [
    "##### Beispiel"
   ]
  },
  {
   "cell_type": "code",
   "execution_count": 26,
   "id": "dedacdf3-b769-46a5-ad0b-60fb803c6b60",
   "metadata": {},
   "outputs": [
    {
     "data": {
      "text/plain": [
       "<psycopg.Cursor [COMMAND_OK] [IDLE] (host=demo-postgres database=postgres) at 0x7f8f21825040>"
      ]
     },
     "execution_count": 26,
     "metadata": {},
     "output_type": "execute_result"
    }
   ],
   "source": [
    "cur.execute(\"drop table if exists users\")\n",
    "cur.execute(\"create table users(doc jsonb)\")"
   ]
  },
  {
   "cell_type": "markdown",
   "id": "bf7038a0-1c9c-44e3-941b-5dd067aeb49c",
   "metadata": {},
   "source": [
    "### Dokumente einfügen"
   ]
  },
  {
   "cell_type": "code",
   "execution_count": 27,
   "id": "8acb6b9a-ae99-49dd-8002-b79358f0ad72",
   "metadata": {},
   "outputs": [
    {
     "data": {
      "text/plain": [
       "<psycopg.Cursor [COMMAND_OK] [IDLE] (host=demo-postgres database=postgres) at 0x7f8f21825040>"
      ]
     },
     "execution_count": 27,
     "metadata": {},
     "output_type": "execute_result"
    }
   ],
   "source": [
    "user_251 = {\n",
    "    \"_id\": 251,\n",
    "    \"first_name\": \"Bill\",\n",
    "    \"last_name\": \"Gates\",\n",
    "    \"summary\": \"Co-chair of the Bill & Melinda Gates... Active blogger.\",\n",
    "    \"region\": \"Greater Seattle Area\",\n",
    "    \"industry\": \"Philanthropy\",\n",
    "    \"positions\": [\n",
    "        {\n",
    "            \"job_title\": \"Co-chair\",\n",
    "            \"organization\": \"Bill & Melinda Gates Foundation\"\n",
    "        },\n",
    "        {\"job_title\": \"Co-founder, Chairman\", \"organization\": \"Microsoft\"}\n",
    "    ],\n",
    "    \"education\": [\n",
    "        {\"school_name\": \"Harvard University\", \"start\": 1973, \"end\": 1975},\n",
    "        {\"school_name\": \"Lakeside School, Seattle\"}\n",
    "    ],\n",
    "    \"contact_info\": {\n",
    "        \"blog\": \"https://www.gatesnotes.com/\",\n",
    "        \"twitter\": \"https://twitter.com/BillGates\"\n",
    "    }\n",
    "}\n",
    "import psycopg.types.json\n",
    "cur.execute(\n",
    "    \"insert into users (doc) values (%s)\",\n",
    "    (psycopg.types.json.Jsonb(user_251),)\n",
    ")"
   ]
  },
  {
   "cell_type": "markdown",
   "id": "90538125-09fb-481e-930e-40498d7b0fc6",
   "metadata": {},
   "source": [
    "### Dokumente abfragen"
   ]
  },
  {
   "cell_type": "markdown",
   "id": "b63814f0-8474-40c9-837d-20cf8b9928cf",
   "metadata": {},
   "source": [
    "#### Alle Dokumente abfragen"
   ]
  },
  {
   "cell_type": "code",
   "execution_count": 28,
   "id": "34e4fd72-97ea-4a2d-9836-47b847e4d654",
   "metadata": {},
   "outputs": [
    {
     "data": {
      "text/plain": [
       "[({'_id': 251,\n",
       "   'region': 'Greater Seattle Area',\n",
       "   'summary': 'Co-chair of the Bill & Melinda Gates... Active blogger.',\n",
       "   'industry': 'Philanthropy',\n",
       "   'education': [{'end': 1975,\n",
       "     'start': 1973,\n",
       "     'school_name': 'Harvard University'},\n",
       "    {'school_name': 'Lakeside School, Seattle'}],\n",
       "   'last_name': 'Gates',\n",
       "   'positions': [{'job_title': 'Co-chair',\n",
       "     'organization': 'Bill & Melinda Gates Foundation'},\n",
       "    {'job_title': 'Co-founder, Chairman', 'organization': 'Microsoft'}],\n",
       "   'first_name': 'Bill',\n",
       "   'contact_info': {'blog': 'https://www.gatesnotes.com/',\n",
       "    'twitter': 'https://twitter.com/BillGates'}},)]"
      ]
     },
     "execution_count": 28,
     "metadata": {},
     "output_type": "execute_result"
    }
   ],
   "source": [
    "cur.execute(\"select doc from users\")\n",
    "cur.fetchall()"
   ]
  },
  {
   "cell_type": "markdown",
   "id": "adb8966f-fd33-4c9e-b354-37a6dd4b3d53",
   "metadata": {},
   "source": [
    "#### Felder einschränken"
   ]
  },
  {
   "cell_type": "code",
   "execution_count": 29,
   "id": "039b0612-ecef-41de-bad3-2298565b011f",
   "metadata": {},
   "outputs": [
    {
     "data": {
      "text/plain": [
       "[('Gates', ['Bill & Melinda Gates Foundation', 'Microsoft'])]"
      ]
     },
     "execution_count": 29,
     "metadata": {},
     "output_type": "execute_result"
    }
   ],
   "source": [
    "cur.execute(\"\"\"\n",
    "    select\n",
    "        doc['last_name'],\n",
    "        jsonb_path_query_array(doc, '$.positions[*].organization')\n",
    "    from users\n",
    "\"\"\")\n",
    "cur.fetchall()"
   ]
  },
  {
   "cell_type": "markdown",
   "id": "4f640be3-6f40-429a-a9d1-9b13cf3a7401",
   "metadata": {},
   "source": [
    "#### Dokumente einschränken"
   ]
  },
  {
   "cell_type": "code",
   "execution_count": 30,
   "id": "08eea75d-96ff-41e5-8d67-38891c3b150d",
   "metadata": {},
   "outputs": [
    {
     "data": {
      "text/plain": [
       "[('Gates', ['Bill & Melinda Gates Foundation', 'Microsoft'])]"
      ]
     },
     "execution_count": 30,
     "metadata": {},
     "output_type": "execute_result"
    }
   ],
   "source": [
    "cur.execute(\"\"\"\n",
    "    select\n",
    "        doc['last_name'],\n",
    "        jsonb_path_query_array(doc, '$.positions[*].organization')\n",
    "    from users\n",
    "    where doc['last_name'] = '\"Gates\"'\n",
    "\"\"\")\n",
    "cur.fetchall()"
   ]
  },
  {
   "cell_type": "code",
   "execution_count": 31,
   "id": "1f9c3308-aa3c-4e00-85ae-8fd839b0e503",
   "metadata": {},
   "outputs": [
    {
     "data": {
      "text/plain": [
       "[]"
      ]
     },
     "execution_count": 31,
     "metadata": {},
     "output_type": "execute_result"
    }
   ],
   "source": [
    "cur.execute(\"\"\"\n",
    "    select\n",
    "        doc['last_name'],\n",
    "        jsonb_path_query_array(doc, '$.positions[*].organization')\n",
    "    from users\n",
    "    where doc['last_name'] = '\"Jobs\"'\n",
    "\"\"\")\n",
    "cur.fetchall()"
   ]
  },
  {
   "cell_type": "code",
   "execution_count": 32,
   "id": "fad08385-70dc-4e21-88a6-7e2853bbfa10",
   "metadata": {},
   "outputs": [
    {
     "data": {
      "text/plain": [
       "[('Gates', ['Bill & Melinda Gates Foundation', 'Microsoft'])]"
      ]
     },
     "execution_count": 32,
     "metadata": {},
     "output_type": "execute_result"
    }
   ],
   "source": [
    "cur.execute(\"\"\"\n",
    "    select\n",
    "        doc['last_name'],\n",
    "        jsonb_path_query_array(doc, '$.positions[*].organization')\n",
    "    from users\n",
    "    where doc['contact_info']['twitter'] = '\"https://twitter.com/BillGates\"'\n",
    "\"\"\")\n",
    "cur.fetchall()"
   ]
  },
  {
   "cell_type": "code",
   "execution_count": 33,
   "id": "b2371010-ef9e-49ad-acd0-db16157ca33c",
   "metadata": {},
   "outputs": [
    {
     "data": {
      "text/plain": [
       "[('Gates',\n",
       "  ['Bill & Melinda Gates Foundation', 'Microsoft'],\n",
       "  [{'end': 1975, 'start': 1973, 'school_name': 'Harvard University'},\n",
       "   {'school_name': 'Lakeside School, Seattle'}])]"
      ]
     },
     "execution_count": 33,
     "metadata": {},
     "output_type": "execute_result"
    }
   ],
   "source": [
    "cur.execute(\"\"\"\n",
    "    select\n",
    "        doc['last_name'],\n",
    "        jsonb_path_query_array(doc, '$.positions[*].organization'),\n",
    "        doc['education']\n",
    "    from users\n",
    "    where doc['education'] @> '[{\"school_name\": \"Lakeside School, Seattle\"}]'\n",
    "\"\"\")\n",
    "cur.fetchall()"
   ]
  },
  {
   "cell_type": "code",
   "execution_count": 34,
   "id": "6f9d863c-0fce-4967-bf6d-5e3e30289dc3",
   "metadata": {},
   "outputs": [
    {
     "data": {
      "text/plain": [
       "[('Gates',\n",
       "  [{'job_title': 'Co-chair',\n",
       "    'organization': 'Bill & Melinda Gates Foundation'},\n",
       "   {'job_title': 'Co-founder, Chairman', 'organization': 'Microsoft'}])]"
      ]
     },
     "execution_count": 34,
     "metadata": {},
     "output_type": "execute_result"
    }
   ],
   "source": [
    "cur.execute(\"\"\"\n",
    "    select\n",
    "        doc['last_name'],\n",
    "        doc['positions']\n",
    "    from users\n",
    "    where doc['positions'] @> '[{\"organization\": \"Microsoft\"}]'\n",
    "\"\"\")\n",
    "cur.fetchall()"
   ]
  },
  {
   "cell_type": "markdown",
   "id": "f6c97a24-33a7-49da-8699-a1f75cfeb51c",
   "metadata": {},
   "source": [
    "### Dokumente verändern"
   ]
  },
  {
   "cell_type": "code",
   "execution_count": 35,
   "id": "2085df57-7053-49bb-a768-e1443f780a94",
   "metadata": {},
   "outputs": [
    {
     "data": {
      "text/plain": [
       "[('William', 'Gates')]"
      ]
     },
     "execution_count": 35,
     "metadata": {},
     "output_type": "execute_result"
    }
   ],
   "source": [
    "cur.execute(\"\"\"\n",
    "    update users\n",
    "    set doc['first_name'] = '\"William\"'\n",
    "    where doc['_id'] = '251'\n",
    "\"\"\")\n",
    "cur.execute(\"\"\"\n",
    "    select doc['first_name'], doc['last_name']\n",
    "    from users\n",
    "    where doc['_id'] = '251'\n",
    "\"\"\")\n",
    "cur.fetchall()"
   ]
  },
  {
   "cell_type": "markdown",
   "id": "7b6737b6-d206-40ca-a702-eec48e1b2217",
   "metadata": {},
   "source": [
    "### Dokumente löschen"
   ]
  },
  {
   "cell_type": "code",
   "execution_count": 36,
   "id": "41907768-5f92-4178-bc06-97fd3de51fdf",
   "metadata": {},
   "outputs": [
    {
     "data": {
      "text/plain": [
       "[]"
      ]
     },
     "execution_count": 36,
     "metadata": {},
     "output_type": "execute_result"
    }
   ],
   "source": [
    "cur.execute(\"\"\"\n",
    "    delete from users\n",
    "    where doc['last_name'] = '\"Gates\"'\n",
    "\"\"\")\n",
    "cur.execute(\"\"\"\n",
    "    select\n",
    "        doc['last_name'],\n",
    "        jsonb_path_query_array(doc, '$.positions[*].organization')\n",
    "    from users\n",
    "    where doc['_id'] = '251'\n",
    "\"\"\")\n",
    "cur.fetchall()"
   ]
  },
  {
   "cell_type": "markdown",
   "id": "8d26ae6c-cef1-48b4-bd1e-2a2fb63335a8",
   "metadata": {},
   "source": [
    "### Referenzen zwischen Dokumenten"
   ]
  },
  {
   "cell_type": "code",
   "execution_count": 37,
   "id": "f460bb9a-c351-4f05-afec-bf93478c6c7c",
   "metadata": {},
   "outputs": [
    {
     "data": {
      "text/plain": [
       "[(43, {'name': 'Financial Services', 'description': 'Banking, etc.'}),\n",
       " (48, {'name': 'Construction'}),\n",
       " (131, {'name': 'Philanthropy'})]"
      ]
     },
     "execution_count": 37,
     "metadata": {},
     "output_type": "execute_result"
    }
   ],
   "source": [
    "cur.execute(\"drop table if exists industries\")\n",
    "cur.execute(\"create table industries (id int primary key, doc jsonb)\")\n",
    "cur.executemany(\n",
    "    \"insert into industries (id, doc) values (%s, %s)\",\n",
    "    [\n",
    "        (43, psycopg.types.json.Jsonb(\n",
    "            {\"name\": \"Financial Services\", \"description\": \"Banking, etc.\"})),\n",
    "        (48, psycopg.types.json.Jsonb({\"name\": \"Construction\"})),\n",
    "        (131, psycopg.types.json.Jsonb({\"name\": \"Philanthropy\"}))\n",
    "    ]\n",
    ")\n",
    "cur.execute(\"select id, doc from industries\")\n",
    "cur.fetchall()"
   ]
  },
  {
   "cell_type": "code",
   "execution_count": 38,
   "id": "ec193120-f47c-47c3-b5df-de6e08f62df3",
   "metadata": {},
   "outputs": [
    {
     "data": {
      "text/plain": [
       "[('us:7', {'name': 'Greater Boston Area'}),\n",
       " ('us:91', {'name': 'Greater Seattle Area', 'state': 'Washington'})]"
      ]
     },
     "execution_count": 38,
     "metadata": {},
     "output_type": "execute_result"
    }
   ],
   "source": [
    "cur.execute(\"drop table if exists regions\")\n",
    "cur.execute(\"create table regions (id text primary key, doc jsonb)\")\n",
    "cur.executemany(\n",
    "    \"insert into regions (id, doc) values (%s, %s)\",\n",
    "    [\n",
    "        (\"us:7\", psycopg.types.json.Jsonb({\"name\": \"Greater Boston Area\"})),\n",
    "        (\"us:91\", psycopg.types.json.Jsonb(\n",
    "            {\"name\": \"Greater Seattle Area\", \"state\": \"Washington\"}))\n",
    "    ]\n",
    ")\n",
    "cur.execute(\"select id, doc from regions\")\n",
    "cur.fetchall()"
   ]
  },
  {
   "cell_type": "code",
   "execution_count": 39,
   "id": "3afda52b-7a5a-476d-a994-22ef6ab42788",
   "metadata": {},
   "outputs": [
    {
     "data": {
      "text/plain": [
       "[(251,\n",
       "  131,\n",
       "  'us:91',\n",
       "  {'summary': 'Co-chair of the Bill & Melinda Gates... Active blogger.',\n",
       "   'education': [{'end': 1975,\n",
       "     'start': 1973,\n",
       "     'school_name': 'Harvard University'},\n",
       "    {'school_name': 'Lakeside School, Seattle'}],\n",
       "   'last_name': 'Gates',\n",
       "   'positions': [{'job_title': 'Co-chair',\n",
       "     'organization': 'Bill & Melinda Gates Foundation'},\n",
       "    {'job_title': 'Co-founder, Chairman', 'organization': 'Microsoft'}],\n",
       "   'first_name': 'Bill',\n",
       "   'contact_info': {'blog': 'https://www.gatesnotes.com/',\n",
       "    'twitter': 'https://twitter.com/BillGates'}})]"
      ]
     },
     "execution_count": 39,
     "metadata": {},
     "output_type": "execute_result"
    }
   ],
   "source": [
    "cur.execute(\"drop table if exists users\")\n",
    "cur.execute(\"\"\"\n",
    "    create table users (\n",
    "        id integer primary key,\n",
    "        industry_id integer references industries(id),\n",
    "        region_id text references regions(id),\n",
    "        doc jsonb\n",
    "    )\n",
    "\"\"\")\n",
    "cur.execute(\n",
    "    \"insert into users (id, industry_id, region_id, doc) values (%s, %s, %s, %s)\",\n",
    "    (251, 131, \"us:91\", psycopg.types.json.Jsonb({\n",
    "        \"first_name\": \"Bill\",\n",
    "        \"last_name\": \"Gates\",\n",
    "        \"summary\": \"Co-chair of the Bill & Melinda Gates... Active blogger.\",\n",
    "        \"positions\": [\n",
    "            {\"job_title\": \"Co-chair\",\n",
    "             \"organization\": \"Bill & Melinda Gates Foundation\"},\n",
    "            {\"job_title\": \"Co-founder, Chairman\", \"organization\": \"Microsoft\"}\n",
    "        ],\n",
    "        \"education\": [\n",
    "            {\"school_name\": \"Harvard University\", \"start\": 1973, \"end\": 1975},\n",
    "            {\"school_name\": \"Lakeside School, Seattle\"}\n",
    "        ],\n",
    "        \"contact_info\": {\n",
    "            \"blog\": \"https://www.gatesnotes.com/\",\n",
    "            \"twitter\": \"https://twitter.com/BillGates\"\n",
    "        }\n",
    "    }))\n",
    ")\n",
    "cur.execute(\"select id, industry_id, region_id, doc from users\")\n",
    "cur.fetchall()"
   ]
  },
  {
   "cell_type": "code",
   "execution_count": 40,
   "id": "9f5b6382-c504-4a55-b687-294cfe0a2b19",
   "metadata": {},
   "outputs": [
    {
     "data": {
      "text/plain": [
       "[('Gates', 'Greater Seattle Area')]"
      ]
     },
     "execution_count": 40,
     "metadata": {},
     "output_type": "execute_result"
    }
   ],
   "source": [
    "cur.execute(\"\"\"\n",
    "    select u.doc['last_name'], r.doc['name']\n",
    "    from users u join regions r on u.region_id = r.id\n",
    "    where u.id = 251\n",
    "\"\"\")\n",
    "cur.fetchall()"
   ]
  },
  {
   "cell_type": "code",
   "execution_count": 41,
   "id": "491896a1-31df-4d63-80f2-c7b3ac239cd0",
   "metadata": {},
   "outputs": [],
   "source": [
    "cur.close()\n",
    "conn.close()"
   ]
  },
  {
   "cell_type": "markdown",
   "id": "09be3e80-dab8-4299-8859-762062c0f0a6",
   "metadata": {
    "tags": []
   },
   "source": [
    "## Zusammenfassung"
   ]
  },
  {
   "cell_type": "markdown",
   "id": "6ef72a2c-7390-40cb-9678-4c39625e4c9f",
   "metadata": {
    "jp-MarkdownHeadingCollapsed": true,
    "tags": []
   },
   "source": [
    "TODO"
   ]
  }
 ],
 "metadata": {
  "kernelspec": {
   "display_name": "Python 3 (ipykernel)",
   "language": "python",
   "name": "python3"
  },
  "language_info": {
   "codemirror_mode": {
    "name": "ipython",
    "version": 3
   },
   "file_extension": ".py",
   "mimetype": "text/x-python",
   "name": "python",
   "nbconvert_exporter": "python",
   "pygments_lexer": "ipython3",
   "version": "3.9.12"
  },
  "toc-autonumbering": true,
  "toc-showmarkdowntxt": false,
  "toc-showtags": false
 },
 "nbformat": 4,
 "nbformat_minor": 5
}
