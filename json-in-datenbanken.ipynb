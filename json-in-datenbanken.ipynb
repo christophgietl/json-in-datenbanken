{
 "cells": [
  {
   "cell_type": "markdown",
   "id": "33146c82-0340-41cd-a3e4-de60e68e36fd",
   "metadata": {
    "tags": []
   },
   "source": [
    "# JSON-Unterstützung in Datenbanken"
   ]
  },
  {
   "cell_type": "markdown",
   "id": "53eee6ab-8549-4b14-8fa9-608b8b420cf3",
   "metadata": {},
   "source": [
    "## JSON - Das Quiz"
   ]
  },
  {
   "cell_type": "markdown",
   "id": "869adf8d-2a39-486a-8454-9b35f8d558ed",
   "metadata": {
    "tags": []
   },
   "source": [
    "## JSON-Unterstützung in dokumentenorientierten Datenbanken (am Beispiel von MongoDB)"
   ]
  },
  {
   "cell_type": "markdown",
   "id": "66867df8-08b2-484d-a54f-61dd7fa95b57",
   "metadata": {},
   "source": [
    "TODO: MongoDB beschreiben."
   ]
  },
  {
   "cell_type": "markdown",
   "id": "f98e5612-542b-4d5b-85ac-c26d1a917464",
   "metadata": {},
   "source": [
    "TODO: Beispiel beschreiben: Nutzer:innenprofile in einer Stellenbörse.\n",
    "Wir benutzen dafür die MongoDB-Instanz `demo-mongo`."
   ]
  },
  {
   "cell_type": "markdown",
   "id": "fc605de9-ad2a-4229-936c-2e17bd05b462",
   "metadata": {
    "tags": []
   },
   "source": [
    "### Datenbankverbindungen verwalten"
   ]
  },
  {
   "cell_type": "markdown",
   "id": "d2e265eb-70e4-4b1b-a05b-42f6a73c2492",
   "metadata": {},
   "source": [
    "Das Paket `pymongo` steht unter der Apache Software License 2.0.\n",
    "Es erlaubt die Nutzung von MongoDB in Python.\n",
    "\n",
    "Die wichtigste Klasse des Pakets heißt `pymongo.MongoClient`.\n",
    "Sie ermöglicht den Zugriff auf MongoDB-Instanzen."
   ]
  },
  {
   "cell_type": "markdown",
   "id": "6d55998b-a906-4f86-be00-4628f0f2b7a1",
   "metadata": {
    "tags": []
   },
   "source": [
    "#### Beispiel"
   ]
  },
  {
   "cell_type": "code",
   "execution_count": 1,
   "id": "4abf4d62-36eb-4c29-9bdc-b4bfa3dd8aff",
   "metadata": {},
   "outputs": [
    {
     "name": "stdout",
     "output_type": "stream",
     "text": [
      "Collecting pymongo~=4.1.1\n",
      "  Downloading pymongo-4.1.1-cp39-cp39-manylinux_2_17_x86_64.manylinux2014_x86_64.whl (471 kB)\n",
      "\u001b[2K     \u001b[90m━━━━━━━━━━━━━━━━━━━━━━━━━━━━━━━━━━━━━━━\u001b[0m \u001b[32m471.3/471.3 kB\u001b[0m \u001b[31m4.9 MB/s\u001b[0m eta \u001b[36m0:00:00\u001b[0ma \u001b[36m0:00:01\u001b[0m\n",
      "\u001b[?25hInstalling collected packages: pymongo\n",
      "Successfully installed pymongo-4.1.1\n"
     ]
    }
   ],
   "source": [
    "!pip install pymongo~=4.1.1"
   ]
  },
  {
   "cell_type": "code",
   "execution_count": 2,
   "id": "0320e5f7-e46f-4b7a-8f6b-8a4cc4e0ee25",
   "metadata": {
    "tags": []
   },
   "outputs": [],
   "source": [
    "import pymongo\n",
    "demo_mongo_client = pymongo.MongoClient(\"mongodb://demo-mongo\")"
   ]
  },
  {
   "cell_type": "markdown",
   "id": "9f11326c-9c00-4917-9e25-bc47fe3897cb",
   "metadata": {
    "tags": []
   },
   "source": [
    "### Dokumente organisieren"
   ]
  },
  {
   "cell_type": "markdown",
   "id": "693462c9-63fb-4c9d-b9da-8a86b57f5105",
   "metadata": {},
   "source": [
    "Jede MongoDB-Instanz verwaltet ihre Dokumente in einer dreistufigen Hierarchie:\n",
    "\n",
    "1. MongoDB-Instanzen enthalten Datenbanken.\n",
    "2. Datenbanken enthalten Collections.\n",
    "3. Collections enthalten Dokumente.\n",
    "\n",
    "Datenbanken und Collections müssen nicht explizit angelegt werden.\n",
    "Sie werden automatisch angelegt, wenn zum ersten Mal auf sie zugegriffen wird."
   ]
  },
  {
   "cell_type": "markdown",
   "id": "aed000a3-24c7-4bda-9950-865c44371c13",
   "metadata": {
    "tags": []
   },
   "source": [
    "#### Beispiel"
   ]
  },
  {
   "cell_type": "markdown",
   "id": "789214ff-7e4e-4d0c-a220-8c634278e66d",
   "metadata": {},
   "source": [
    "Wir verwalten die Dokumente unserer Stellenbörse in der Datenbank `employment`:"
   ]
  },
  {
   "cell_type": "code",
   "execution_count": 3,
   "id": "95d56ea7-2f40-42cc-a050-1e4fe4089a87",
   "metadata": {
    "tags": []
   },
   "outputs": [],
   "source": [
    "employment = demo_mongo_client[\"employment\"]"
   ]
  },
  {
   "cell_type": "markdown",
   "id": "77c26304-b149-4ead-98e8-e3c7e8423dfa",
   "metadata": {},
   "source": [
    "Die Nutzer:innenprofile speichern wir in der Collection `users`:"
   ]
  },
  {
   "cell_type": "code",
   "execution_count": 4,
   "id": "77e8ba58-9fce-4d30-8e38-de09972c25c9",
   "metadata": {
    "tags": []
   },
   "outputs": [],
   "source": [
    "users = employment[\"users\"]"
   ]
  },
  {
   "cell_type": "markdown",
   "id": "8e3a729e-1993-4685-97ad-d21becf0605d",
   "metadata": {},
   "source": [
    "Zu Beginn unseres Beispiels stellen wir sicher, dass die Collection `users` leer ist: "
   ]
  },
  {
   "cell_type": "code",
   "execution_count": 5,
   "id": "db089934-7ebd-493b-9e10-b79287820b5a",
   "metadata": {
    "tags": []
   },
   "outputs": [],
   "source": [
    "users.drop()"
   ]
  },
  {
   "cell_type": "markdown",
   "id": "f7cbf03f-ec06-41ae-906a-f5779261bce6",
   "metadata": {
    "tags": []
   },
   "source": [
    "### Dokumente einfügen"
   ]
  },
  {
   "cell_type": "code",
   "execution_count": 6,
   "id": "164d17fc-6b39-41dd-a6f6-0215f6ac80d2",
   "metadata": {},
   "outputs": [
    {
     "ename": "NameError",
     "evalue": "name 'profiles' is not defined",
     "output_type": "error",
     "traceback": [
      "\u001b[0;31m---------------------------------------------------------------------------\u001b[0m",
      "\u001b[0;31mNameError\u001b[0m                                 Traceback (most recent call last)",
      "Input \u001b[0;32mIn [6]\u001b[0m, in \u001b[0;36m<cell line: 1>\u001b[0;34m()\u001b[0m\n\u001b[0;32m----> 1\u001b[0m \u001b[43mprofiles\u001b[49m\u001b[38;5;241m.\u001b[39minsert_one({\n\u001b[1;32m      2\u001b[0m     \u001b[38;5;124m\"\u001b[39m\u001b[38;5;124m_id\u001b[39m\u001b[38;5;124m\"\u001b[39m: \u001b[38;5;241m251\u001b[39m,\n\u001b[1;32m      3\u001b[0m     \u001b[38;5;124m\"\u001b[39m\u001b[38;5;124mfirst_name\u001b[39m\u001b[38;5;124m\"\u001b[39m: \u001b[38;5;124m\"\u001b[39m\u001b[38;5;124mBill\u001b[39m\u001b[38;5;124m\"\u001b[39m,\n\u001b[1;32m      4\u001b[0m     \u001b[38;5;124m\"\u001b[39m\u001b[38;5;124mlast_name\u001b[39m\u001b[38;5;124m\"\u001b[39m: \u001b[38;5;124m\"\u001b[39m\u001b[38;5;124mGates\u001b[39m\u001b[38;5;124m\"\u001b[39m,\n\u001b[1;32m      5\u001b[0m     \u001b[38;5;124m\"\u001b[39m\u001b[38;5;124msummary\u001b[39m\u001b[38;5;124m\"\u001b[39m: \u001b[38;5;124m\"\u001b[39m\u001b[38;5;124mCo-chair of the Bill & Melinda Gates... Active blogger.\u001b[39m\u001b[38;5;124m\"\u001b[39m,\n\u001b[1;32m      6\u001b[0m     \u001b[38;5;124m\"\u001b[39m\u001b[38;5;124mregion\u001b[39m\u001b[38;5;124m\"\u001b[39m: \u001b[38;5;124m\"\u001b[39m\u001b[38;5;124mGreater Seattle Area\u001b[39m\u001b[38;5;124m\"\u001b[39m,\n\u001b[1;32m      7\u001b[0m     \u001b[38;5;124m\"\u001b[39m\u001b[38;5;124mindustry\u001b[39m\u001b[38;5;124m\"\u001b[39m: \u001b[38;5;124m\"\u001b[39m\u001b[38;5;124mPhilanthropy\u001b[39m\u001b[38;5;124m\"\u001b[39m,\n\u001b[1;32m      8\u001b[0m     \u001b[38;5;124m\"\u001b[39m\u001b[38;5;124mpositions\u001b[39m\u001b[38;5;124m\"\u001b[39m: [\n\u001b[1;32m      9\u001b[0m         {\u001b[38;5;124m\"\u001b[39m\u001b[38;5;124mjob_title\u001b[39m\u001b[38;5;124m\"\u001b[39m: \u001b[38;5;124m\"\u001b[39m\u001b[38;5;124mCo-chair\u001b[39m\u001b[38;5;124m\"\u001b[39m, \u001b[38;5;124m\"\u001b[39m\u001b[38;5;124morganization\u001b[39m\u001b[38;5;124m\"\u001b[39m: \u001b[38;5;124m\"\u001b[39m\u001b[38;5;124mBill & Melinda Gates Foundation\u001b[39m\u001b[38;5;124m\"\u001b[39m},\n\u001b[1;32m     10\u001b[0m         {\u001b[38;5;124m\"\u001b[39m\u001b[38;5;124mjob_title\u001b[39m\u001b[38;5;124m\"\u001b[39m: \u001b[38;5;124m\"\u001b[39m\u001b[38;5;124mCo-founder, Chairman\u001b[39m\u001b[38;5;124m\"\u001b[39m, \u001b[38;5;124m\"\u001b[39m\u001b[38;5;124morganization\u001b[39m\u001b[38;5;124m\"\u001b[39m: \u001b[38;5;124m\"\u001b[39m\u001b[38;5;124mMicrosoft\u001b[39m\u001b[38;5;124m\"\u001b[39m}\n\u001b[1;32m     11\u001b[0m     ],\n\u001b[1;32m     12\u001b[0m     \u001b[38;5;124m\"\u001b[39m\u001b[38;5;124meducation\u001b[39m\u001b[38;5;124m\"\u001b[39m: [\n\u001b[1;32m     13\u001b[0m         {\u001b[38;5;124m\"\u001b[39m\u001b[38;5;124mschool_name\u001b[39m\u001b[38;5;124m\"\u001b[39m: \u001b[38;5;124m\"\u001b[39m\u001b[38;5;124mHarvard University\u001b[39m\u001b[38;5;124m\"\u001b[39m, \u001b[38;5;124m\"\u001b[39m\u001b[38;5;124mstart\u001b[39m\u001b[38;5;124m\"\u001b[39m: \u001b[38;5;241m1973\u001b[39m, \u001b[38;5;124m\"\u001b[39m\u001b[38;5;124mend\u001b[39m\u001b[38;5;124m\"\u001b[39m: \u001b[38;5;241m1975\u001b[39m},\n\u001b[1;32m     14\u001b[0m         {\u001b[38;5;124m\"\u001b[39m\u001b[38;5;124mschool_name\u001b[39m\u001b[38;5;124m\"\u001b[39m: \u001b[38;5;124m\"\u001b[39m\u001b[38;5;124mLakeside School, Seattle\u001b[39m\u001b[38;5;124m\"\u001b[39m}\n\u001b[1;32m     15\u001b[0m     ],\n\u001b[1;32m     16\u001b[0m     \u001b[38;5;124m\"\u001b[39m\u001b[38;5;124mcontact_info\u001b[39m\u001b[38;5;124m\"\u001b[39m: {\n\u001b[1;32m     17\u001b[0m         \u001b[38;5;124m\"\u001b[39m\u001b[38;5;124mblog\u001b[39m\u001b[38;5;124m\"\u001b[39m: \u001b[38;5;124m\"\u001b[39m\u001b[38;5;124mhttps://www.gatesnotes.com/\u001b[39m\u001b[38;5;124m\"\u001b[39m,\n\u001b[1;32m     18\u001b[0m         \u001b[38;5;124m\"\u001b[39m\u001b[38;5;124mtwitter\u001b[39m\u001b[38;5;124m\"\u001b[39m: \u001b[38;5;124m\"\u001b[39m\u001b[38;5;124mhttps://twitter.com/BillGates\u001b[39m\u001b[38;5;124m\"\u001b[39m\n\u001b[1;32m     19\u001b[0m     }\n\u001b[1;32m     20\u001b[0m })\n",
      "\u001b[0;31mNameError\u001b[0m: name 'profiles' is not defined"
     ]
    }
   ],
   "source": [
    "profiles.insert_one({\n",
    "    \"_id\": 251,\n",
    "    \"first_name\": \"Bill\",\n",
    "    \"last_name\": \"Gates\",\n",
    "    \"summary\": \"Co-chair of the Bill & Melinda Gates... Active blogger.\",\n",
    "    \"region\": \"Greater Seattle Area\",\n",
    "    \"industry\": \"Philanthropy\",\n",
    "    \"positions\": [\n",
    "        {\"job_title\": \"Co-chair\", \"organization\": \"Bill & Melinda Gates Foundation\"},\n",
    "        {\"job_title\": \"Co-founder, Chairman\", \"organization\": \"Microsoft\"}\n",
    "    ],\n",
    "    \"education\": [\n",
    "        {\"school_name\": \"Harvard University\", \"start\": 1973, \"end\": 1975},\n",
    "        {\"school_name\": \"Lakeside School, Seattle\"}\n",
    "    ],\n",
    "    \"contact_info\": {\n",
    "        \"blog\": \"https://www.gatesnotes.com/\",\n",
    "        \"twitter\": \"https://twitter.com/BillGates\"\n",
    "    }\n",
    "})"
   ]
  },
  {
   "cell_type": "markdown",
   "id": "3c4ce7f2-c3b7-46f3-b7a0-b5a994e124e7",
   "metadata": {
    "tags": []
   },
   "source": [
    "### Dokumenten abfragen"
   ]
  },
  {
   "cell_type": "markdown",
   "id": "9016cfeb-84f5-4715-bc11-0f785982e87f",
   "metadata": {
    "tags": []
   },
   "source": [
    "#### Alle Dokumente abfragen"
   ]
  },
  {
   "cell_type": "code",
   "execution_count": null,
   "id": "627c8780-8629-4ff2-b6b2-1ea47c9f3b1e",
   "metadata": {},
   "outputs": [],
   "source": [
    "documents = profiles.find({})\n",
    "documents"
   ]
  },
  {
   "cell_type": "code",
   "execution_count": null,
   "id": "bb952498-1afb-40b5-af39-0cb8b4c53f80",
   "metadata": {},
   "outputs": [],
   "source": [
    "list(documents)"
   ]
  },
  {
   "cell_type": "markdown",
   "id": "e56d4ca0-f4a0-4d8f-a49b-b526207ace4f",
   "metadata": {
    "tags": []
   },
   "source": [
    "#### Felder einschränken"
   ]
  },
  {
   "cell_type": "code",
   "execution_count": null,
   "id": "f7167371-43a7-43ee-8f0e-9ef615c00dc2",
   "metadata": {},
   "outputs": [],
   "source": [
    "# Lade nur den Nachnamen und die Organisationen:\n",
    "documents = profiles.find({}, {\"first_name\": 1, \"positions.organization\": 1})\n",
    "list(documents)"
   ]
  },
  {
   "cell_type": "code",
   "execution_count": null,
   "id": "b236fca4-aace-422e-a175-b35110d6162c",
   "metadata": {},
   "outputs": [],
   "source": [
    "# Lade nur die Attribute first_name und last_name *ohne den Primärschlüssel*:\n",
    "names_only = {\"_id\": 0, \"first_name\": 1, \"last_name\": 1}\n",
    "documents = profiles.find({}, names_only)\n",
    "list(documents)"
   ]
  },
  {
   "cell_type": "markdown",
   "id": "218a0da4-a9bc-414a-b1c0-7cc362c97aa6",
   "metadata": {
    "tags": []
   },
   "source": [
    "#### Dokumente einschränken"
   ]
  },
  {
   "cell_type": "code",
   "execution_count": null,
   "id": "860a331c-8a8c-4eea-9657-f1f369643e57",
   "metadata": {},
   "outputs": [],
   "source": [
    "# Alle Dokumente mit dem Primärschlüssel _id=251:\n",
    "documents = profiles.find({\"_id\": 251}, names_only)\n",
    "list(documents)"
   ]
  },
  {
   "cell_type": "code",
   "execution_count": null,
   "id": "33bb8b3a-a430-4536-9203-9146404ac7a5",
   "metadata": {},
   "outputs": [],
   "source": [
    "# Alle Dokumente mit dem Primärschlüssel _id=12:\n",
    "documents = profiles.find({\"_id\": 12}, names_only)\n",
    "list(documents)"
   ]
  },
  {
   "cell_type": "code",
   "execution_count": null,
   "id": "bcb3c714-fa06-49b1-9d31-2930d8467a47",
   "metadata": {},
   "outputs": [],
   "source": [
    "# Alle Dokumente mit dem Attribut last_name=\"Gates\":\n",
    "documents = profiles.find({\"last_name\": \"Gates\"}, names_only)\n",
    "list(documents)"
   ]
  },
  {
   "cell_type": "code",
   "execution_count": null,
   "id": "d440f3f6-1738-46ce-be4f-a608be7b78bd",
   "metadata": {},
   "outputs": [],
   "source": [
    "# Alle Dokumente mit dem Twitter-Account \"https://twitter.com/BillGates\":\n",
    "documents = profiles.find(\n",
    "    {\"contact_info.twitter\": \"https://twitter.com/BillGates\"}, names_only\n",
    ")\n",
    "list(documents)"
   ]
  },
  {
   "cell_type": "code",
   "execution_count": null,
   "id": "14c3555e-687b-45da-9bd2-fc6651368d72",
   "metadata": {},
   "outputs": [],
   "source": [
    "# Alle Dokumente, deren Attribut education\n",
    "# das Element '{\"school_name\": \"Lakeside School, Seattle\"}' enthält:\n",
    "documents = profiles.find(\n",
    "    {\"education\": {\"$all\": [{\"school_name\": \"Lakeside School, Seattle\"}]}},\n",
    "    {\"_id\": 0, \"first_name\": 1, \"last_name\": 1, \"education\": 1}\n",
    ")\n",
    "list(documents)"
   ]
  },
  {
   "cell_type": "code",
   "execution_count": null,
   "id": "2229aecd-dffe-4b8d-b7e0-231a24584f34",
   "metadata": {},
   "outputs": [],
   "source": [
    "# Alle Dokumente, deren Attribut positions\n",
    "# ein Objekt mit dem Attribut organization=\"Microsoft\" enthält:\n",
    "documents = profiles.find({\"positions.organization\": \"Microsoft\"}, names_only)\n",
    "list(documents)"
   ]
  },
  {
   "cell_type": "markdown",
   "id": "f640c12f-98ad-4188-9c6c-5a4f1148b817",
   "metadata": {
    "tags": []
   },
   "source": [
    "### Dokumente verändern"
   ]
  },
  {
   "cell_type": "code",
   "execution_count": null,
   "id": "5d495e3f-4377-4d6c-a185-fe3de3900f24",
   "metadata": {},
   "outputs": [],
   "source": [
    "# Ändere das Attribut \"first_name\" des Profils mit dem Primärschlüssel _id=251:\n",
    "profiles.update_many({\"_id\": 251}, {\"$set\": {\"first_name\": \"William\"}})\n",
    "documents = profiles.find({\"_id\": 251}, names_only)\n",
    "list(documents)"
   ]
  },
  {
   "cell_type": "markdown",
   "id": "9f79d839-29c9-47e8-8fea-89806f67af50",
   "metadata": {
    "tags": []
   },
   "source": [
    "### Dokumente löschen"
   ]
  },
  {
   "cell_type": "code",
   "execution_count": null,
   "id": "23742514-c1d1-4ce8-a98f-e0e797ddb91b",
   "metadata": {},
   "outputs": [],
   "source": [
    "# Lösche alle Profile mit last_name=\"Gates\":\n",
    "profiles.delete_many({\"last_name\": \"Gates\"})\n",
    "documents = profiles.find({\"_id\": 251}, names_only)\n",
    "list(documents)"
   ]
  },
  {
   "cell_type": "markdown",
   "id": "972c6006-b3d4-4055-9b2e-695df763992c",
   "metadata": {
    "tags": []
   },
   "source": [
    "### Referenzen zwischen Dokumenten"
   ]
  },
  {
   "cell_type": "code",
   "execution_count": null,
   "id": "29ab9205-5104-4996-b67d-7fbbcc45f913",
   "metadata": {},
   "outputs": [],
   "source": [
    "industries = db[\"industries\"]\n",
    "industries.drop()\n",
    "regions = db[\"regions\"]\n",
    "regions.drop()"
   ]
  },
  {
   "cell_type": "code",
   "execution_count": null,
   "id": "e1f1d949-ad10-45d9-84e7-527c18232f5a",
   "metadata": {},
   "outputs": [],
   "source": [
    "# Füge JSON-Dokumente zu den Collections industries und regions hinzu:\n",
    "industries.insert_many([\n",
    "    # Das Attribut _id dient automatisch als Primärschlüssel:\n",
    "    {\"_id\": 43, \"name\": \"Financial Services\", \"description\": \"Banking, etc.\"},\n",
    "    {\"_id\": 48, \"name\": \"Construction\"},\n",
    "    {\"_id\": 131, \"name\": \"Philanthropy\"}\n",
    "])\n",
    "regions.insert_many([\n",
    "    {\"_id\": \"us:7\", \"name\": \"Greater Boston Area\"},\n",
    "    {\"_id\": \"us:91\", \"name\": \"Greater Seattle Area\", \"state\": \"Washington\"}\n",
    "])"
   ]
  },
  {
   "cell_type": "code",
   "execution_count": null,
   "id": "ab93eeab-f693-40b4-b5b8-3ae56d93a82f",
   "metadata": {},
   "outputs": [],
   "source": [
    "# Füge ein JSON-Dokument mit Referenzen zu anderen Dokumenten hinzu:\n",
    "import bson.dbref\n",
    "profiles.insert_one({\n",
    "    \"_id\": 251,\n",
    "    \"first_name\": \"Bill\",\n",
    "    \"last_name\": \"Gates\",\n",
    "    \"summary\": \"Co-chair of the Bill & Melinda Gates... Active blogger.\",\n",
    "    \"region\": bson.dbref.DBRef(collection=regions.name, id=\"us:91\"),\n",
    "    \"industry\": bson.dbref.DBRef(collection=industries.name, id=\"131\"),\n",
    "    \"positions\": [\n",
    "        {\"job_title\": \"Co-chair\", \"organization\": \"Bill & Melinda Gates Foundation\"},\n",
    "        {\"job_title\": \"Co-founder, Chairman\", \"organization\": \"Microsoft\"}\n",
    "    ],\n",
    "    \"education\": [\n",
    "        {\"school_name\": \"Harvard University\", \"start\": 1973, \"end\": 1975},\n",
    "        {\"school_name\": \"Lakeside School, Seattle\"}\n",
    "    ],\n",
    "    \"contact_info\": {\n",
    "        \"blog\": \"https://www.gatesnotes.com/\",\n",
    "        \"twitter\": \"https://twitter.com/BillGates\"\n",
    "    }\n",
    "})\n",
    "\n",
    "# Lade Nachname und Region des Profils mit dem Primärschlüssel _id=251:\n",
    "documents = list(profiles.find({\"_id\": 251}, {\"_id\": 0, \"last_name\": 1, \"region\": 1}))\n",
    "documents"
   ]
  },
  {
   "cell_type": "code",
   "execution_count": null,
   "id": "b5173dfe-9821-4ace-9c12-3d83174b1d67",
   "metadata": {},
   "outputs": [],
   "source": [
    "# Finde den Namen der Region:\n",
    "db.dereference(documents[0][\"region\"])"
   ]
  },
  {
   "cell_type": "markdown",
   "id": "30446b00-638b-42a2-b17c-e7cd2f4eebb2",
   "metadata": {
    "tags": []
   },
   "source": [
    "## JSON-Unterstützung in relationalen Datenbanken (am Beispiel von PostgreSQL)"
   ]
  },
  {
   "cell_type": "code",
   "execution_count": null,
   "id": "3101dc00-fa90-46df-ad8c-5cd5752ce174",
   "metadata": {},
   "outputs": [],
   "source": [
    "!pip install psycopg[binary]~=3.0.13"
   ]
  },
  {
   "cell_type": "code",
   "execution_count": null,
   "id": "2fff9f81-2659-4052-b191-7304356ace8d",
   "metadata": {},
   "outputs": [],
   "source": [
    "import psycopg.types.json\n",
    "\n",
    "conn = psycopg.connect(\"postgresql://postgres@postgresql\", autocommit=True)\n",
    "cur = conn.cursor()\n",
    "\n",
    "cur.execute(\"drop table if exists profiles\")\n",
    "cur.execute(\"create table profiles(doc jsonb)\")"
   ]
  },
  {
   "cell_type": "markdown",
   "id": "bf7038a0-1c9c-44e3-941b-5dd067aeb49c",
   "metadata": {},
   "source": [
    "### Dokumente einfügen"
   ]
  },
  {
   "cell_type": "code",
   "execution_count": null,
   "id": "8acb6b9a-ae99-49dd-8002-b79358f0ad72",
   "metadata": {},
   "outputs": [],
   "source": [
    "document = {\n",
    "    \"_id\": 251,\n",
    "    \"first_name\": \"Bill\",\n",
    "    \"last_name\": \"Gates\",\n",
    "    \"summary\": \"Co-chair of the Bill & Melinda Gates... Active blogger.\",\n",
    "    \"region\": \"Greater Seattle Area\",\n",
    "    \"industry\": \"Philanthropy\",\n",
    "    \"positions\": [\n",
    "        {\n",
    "            \"job_title\": \"Co-chair\",\n",
    "            \"organization\": \"Bill & Melinda Gates Foundation\"\n",
    "        },\n",
    "        {\"job_title\": \"Co-founder, Chairman\", \"organization\": \"Microsoft\"}\n",
    "    ],\n",
    "    \"education\": [\n",
    "        {\"school_name\": \"Harvard University\", \"start\": 1973, \"end\": 1975},\n",
    "        {\"school_name\": \"Lakeside School, Seattle\"}\n",
    "    ],\n",
    "    \"contact_info\": {\n",
    "        \"blog\": \"https://www.gatesnotes.com/\",\n",
    "        \"twitter\": \"https://twitter.com/BillGates\"\n",
    "    }\n",
    "}\n",
    "cur.execute(\n",
    "    \"insert into profiles (doc) values (%s)\",\n",
    "    (psycopg.types.json.Jsonb(document),)\n",
    ")"
   ]
  },
  {
   "cell_type": "markdown",
   "id": "90538125-09fb-481e-930e-40498d7b0fc6",
   "metadata": {},
   "source": [
    "### Dokumente abfragen"
   ]
  },
  {
   "cell_type": "markdown",
   "id": "b63814f0-8474-40c9-837d-20cf8b9928cf",
   "metadata": {},
   "source": [
    "#### Alle Dokumente abfragen"
   ]
  },
  {
   "cell_type": "code",
   "execution_count": null,
   "id": "34e4fd72-97ea-4a2d-9836-47b847e4d654",
   "metadata": {},
   "outputs": [],
   "source": [
    "# Lade alle Dokumente der Tabelle profiles:\n",
    "cur.execute(\"select doc from profiles\")\n",
    "cur.fetchall()"
   ]
  },
  {
   "cell_type": "markdown",
   "id": "adb8966f-fd33-4c9e-b354-37a6dd4b3d53",
   "metadata": {},
   "source": [
    "#### Felder einschränken"
   ]
  },
  {
   "cell_type": "code",
   "execution_count": null,
   "id": "039b0612-ecef-41de-bad3-2298565b011f",
   "metadata": {},
   "outputs": [],
   "source": [
    "# Lade nur den Nachnamen und die Organisationen:\n",
    "cur.execute(\"\"\"\n",
    "    select\n",
    "        doc['last_name'],\n",
    "        jsonb_path_query_array(doc, '$.positions[*].organization')\n",
    "    from profiles\n",
    "\"\"\")\n",
    "cur.fetchall()"
   ]
  },
  {
   "cell_type": "markdown",
   "id": "4f640be3-6f40-429a-a9d1-9b13cf3a7401",
   "metadata": {},
   "source": [
    "#### Dokumente einschränken"
   ]
  },
  {
   "cell_type": "code",
   "execution_count": null,
   "id": "08eea75d-96ff-41e5-8d67-38891c3b150d",
   "metadata": {},
   "outputs": [],
   "source": [
    "# Alle Dokumente mit dem Attribut last_name=\"Gates\":\n",
    "cur.execute(\"\"\"\n",
    "    select\n",
    "        doc['last_name'],\n",
    "        jsonb_path_query_array(doc, '$.positions[*].organization')\n",
    "    from profiles\n",
    "    where doc['last_name'] = '\"Gates\"'\n",
    "\"\"\")\n",
    "cur.fetchall()"
   ]
  },
  {
   "cell_type": "code",
   "execution_count": null,
   "id": "1f9c3308-aa3c-4e00-85ae-8fd839b0e503",
   "metadata": {},
   "outputs": [],
   "source": [
    "# Alle Dokumente mit dem Attribut last_name=\"Jobs\":\n",
    "cur.execute(\"\"\"\n",
    "    select\n",
    "        doc['last_name'],\n",
    "        jsonb_path_query_array(doc, '$.positions[*].organization')\n",
    "    from profiles\n",
    "    where doc['last_name'] = '\"Jobs\"'\n",
    "\"\"\")\n",
    "cur.fetchall()"
   ]
  },
  {
   "cell_type": "code",
   "execution_count": null,
   "id": "fad08385-70dc-4e21-88a6-7e2853bbfa10",
   "metadata": {},
   "outputs": [],
   "source": [
    "# Alle Dokumente mit dem Twitter-Account \"https://twitter.com/BillGates\":\n",
    "cur.execute(\"\"\"\n",
    "    select\n",
    "        doc['last_name'],\n",
    "        jsonb_path_query_array(doc, '$.positions[*].organization')\n",
    "    from profiles\n",
    "    where doc['contact_info']['twitter'] = '\"https://twitter.com/BillGates\"'\n",
    "\"\"\")\n",
    "cur.fetchall()"
   ]
  },
  {
   "cell_type": "code",
   "execution_count": null,
   "id": "b2371010-ef9e-49ad-acd0-db16157ca33c",
   "metadata": {},
   "outputs": [],
   "source": [
    "# Alle Dokumente, deren Attribut education\n",
    "# das Element '{\"school_name\": \"Lakeside School, Seattle\"}' enthält:\n",
    "cur.execute(\"\"\"\n",
    "    select\n",
    "        doc['last_name'],\n",
    "        jsonb_path_query_array(doc, '$.positions[*].organization'),\n",
    "        doc['education']\n",
    "    from profiles\n",
    "    where doc['education'] @> '[{\"school_name\": \"Lakeside School, Seattle\"}]'\n",
    "\"\"\")\n",
    "cur.fetchall()"
   ]
  },
  {
   "cell_type": "code",
   "execution_count": null,
   "id": "6f9d863c-0fce-4967-bf6d-5e3e30289dc3",
   "metadata": {},
   "outputs": [],
   "source": [
    "# Alle Dokumente, deren Attribut positions\n",
    "# ein Objekt mit dem Attribut organization=\"Microsoft\" enthält:\n",
    "cur.execute(\"\"\"\n",
    "    select\n",
    "        doc['last_name'],\n",
    "        doc['positions']\n",
    "    from profiles\n",
    "    where doc['positions'] @> '[{\"organization\": \"Microsoft\"}]'\n",
    "\"\"\")\n",
    "cur.fetchall()"
   ]
  },
  {
   "cell_type": "markdown",
   "id": "f6c97a24-33a7-49da-8699-a1f75cfeb51c",
   "metadata": {},
   "source": [
    "### Dokumente verändern"
   ]
  },
  {
   "cell_type": "code",
   "execution_count": null,
   "id": "2085df57-7053-49bb-a768-e1443f780a94",
   "metadata": {},
   "outputs": [],
   "source": [
    "# Ändere das Attribut \"first_name\" des Profils mit dem Primärschlüssel _id=251:\n",
    "cur.execute(\"\"\"\n",
    "    update profiles\n",
    "    set doc['first_name'] = '\"William\"'\n",
    "    where doc['_id'] = '251'\n",
    "\"\"\")\n",
    "cur.execute(\"\"\"\n",
    "    select doc['first_name'], doc['last_name']\n",
    "    from profiles\n",
    "    where doc['_id'] = '251'\n",
    "\"\"\")\n",
    "cur.fetchall()"
   ]
  },
  {
   "cell_type": "markdown",
   "id": "7b6737b6-d206-40ca-a702-eec48e1b2217",
   "metadata": {},
   "source": [
    "### Dokumente löschen"
   ]
  },
  {
   "cell_type": "code",
   "execution_count": null,
   "id": "41907768-5f92-4178-bc06-97fd3de51fdf",
   "metadata": {},
   "outputs": [],
   "source": [
    "# Lösche alle Profile mit last_name=\"Gates\":\n",
    "cur.execute(\"\"\"\n",
    "    delete from profiles\n",
    "    where doc['last_name'] = '\"Gates\"'\n",
    "\"\"\")\n",
    "cur.execute(\"\"\"\n",
    "    select\n",
    "        doc['last_name'],\n",
    "        jsonb_path_query_array(doc, '$.positions[*].organization')\n",
    "    from profiles\n",
    "    where doc['_id'] = '251'\n",
    "\"\"\")\n",
    "cur.fetchall()"
   ]
  },
  {
   "cell_type": "markdown",
   "id": "8d26ae6c-cef1-48b4-bd1e-2a2fb63335a8",
   "metadata": {},
   "source": [
    "### Referenzen zwischen Dokumenten"
   ]
  },
  {
   "cell_type": "code",
   "execution_count": null,
   "id": "f460bb9a-c351-4f05-afec-bf93478c6c7c",
   "metadata": {},
   "outputs": [],
   "source": [
    "# Füge JSON-Dokumente zu den Collections industries und regions hinzu:\n",
    "cur.execute(\"drop table if exists industries\")\n",
    "cur.execute(\"create table industries (id int primary key, doc jsonb)\")\n",
    "cur.executemany(\n",
    "    \"insert into industries (id, doc) values (%s, %s)\",\n",
    "    [\n",
    "        (43, psycopg.types.json.Jsonb(\n",
    "            {\"name\": \"Financial Services\", \"description\": \"Banking, etc.\"})),\n",
    "        (48, psycopg.types.json.Jsonb({\"name\": \"Construction\"})),\n",
    "        (131, psycopg.types.json.Jsonb({\"name\": \"Philanthropy\"}))\n",
    "    ]\n",
    ")\n",
    "cur.execute(\"select id, doc from industries\")\n",
    "cur.fetchall()"
   ]
  },
  {
   "cell_type": "code",
   "execution_count": null,
   "id": "ec193120-f47c-47c3-b5df-de6e08f62df3",
   "metadata": {},
   "outputs": [],
   "source": [
    "cur.execute(\"drop table if exists regions\")\n",
    "cur.execute(\"create table regions (id text primary key, doc jsonb)\")\n",
    "cur.executemany(\n",
    "    \"insert into regions (id, doc) values (%s, %s)\",\n",
    "    [\n",
    "        (\"us:7\", psycopg.types.json.Jsonb({\"name\": \"Greater Boston Area\"})),\n",
    "        (\"us:91\", psycopg.types.json.Jsonb(\n",
    "            {\"name\": \"Greater Seattle Area\", \"state\": \"Washington\"}))\n",
    "    ]\n",
    ")\n",
    "cur.execute(\"select id, doc from regions\")\n",
    "cur.fetchall()"
   ]
  },
  {
   "cell_type": "code",
   "execution_count": null,
   "id": "3afda52b-7a5a-476d-a994-22ef6ab42788",
   "metadata": {},
   "outputs": [],
   "source": [
    "cur.execute(\"drop table if exists profiles\")\n",
    "cur.execute(\"\"\"\n",
    "    create table profiles (\n",
    "        id integer primary key,\n",
    "        industry_id integer references industries(id),\n",
    "        region_id text references regions(id),\n",
    "        doc jsonb\n",
    "    )\n",
    "\"\"\")\n",
    "cur.execute(\n",
    "    \"insert into profiles (id, industry_id, region_id, doc) values (%s, %s, %s, %s)\",\n",
    "    (251, 131, \"us:91\", psycopg.types.json.Jsonb({\n",
    "        \"first_name\": \"Bill\",\n",
    "        \"last_name\": \"Gates\",\n",
    "        \"summary\": \"Co-chair of the Bill & Melinda Gates... Active blogger.\",\n",
    "        \"positions\": [\n",
    "            {\"job_title\": \"Co-chair\",\n",
    "             \"organization\": \"Bill & Melinda Gates Foundation\"},\n",
    "            {\"job_title\": \"Co-founder, Chairman\", \"organization\": \"Microsoft\"}\n",
    "        ],\n",
    "        \"education\": [\n",
    "            {\"school_name\": \"Harvard University\", \"start\": 1973, \"end\": 1975},\n",
    "            {\"school_name\": \"Lakeside School, Seattle\"}\n",
    "        ],\n",
    "        \"contact_info\": {\n",
    "            \"blog\": \"https://www.gatesnotes.com/\",\n",
    "            \"twitter\": \"https://twitter.com/BillGates\"\n",
    "        }\n",
    "    }))\n",
    ")\n",
    "cur.execute(\"select id, industry_id, region_id, doc from profiles\")\n",
    "cur.fetchall()"
   ]
  },
  {
   "cell_type": "code",
   "execution_count": null,
   "id": "9f5b6382-c504-4a55-b687-294cfe0a2b19",
   "metadata": {},
   "outputs": [],
   "source": [
    "# Lade Nachname und Region des Profils mit dem Primärschlüssel _id=251:\n",
    "cur.execute(\"\"\"\n",
    "    select p.doc['last_name'], r.doc['name']\n",
    "    from profiles p join regions r on p.region_id = r.id\n",
    "    where p.id = 251\n",
    "\"\"\")\n",
    "cur.fetchall()"
   ]
  },
  {
   "cell_type": "code",
   "execution_count": null,
   "id": "491896a1-31df-4d63-80f2-c7b3ac239cd0",
   "metadata": {},
   "outputs": [],
   "source": [
    "cur.close()\n",
    "conn.close()"
   ]
  },
  {
   "cell_type": "markdown",
   "id": "09be3e80-dab8-4299-8859-762062c0f0a6",
   "metadata": {
    "tags": []
   },
   "source": [
    "## Zusammenfassung"
   ]
  },
  {
   "cell_type": "markdown",
   "id": "6ef72a2c-7390-40cb-9678-4c39625e4c9f",
   "metadata": {
    "jp-MarkdownHeadingCollapsed": true,
    "tags": []
   },
   "source": [
    "TODO"
   ]
  }
 ],
 "metadata": {
  "kernelspec": {
   "display_name": "Python 3 (ipykernel)",
   "language": "python",
   "name": "python3"
  },
  "language_info": {
   "codemirror_mode": {
    "name": "ipython",
    "version": 3
   },
   "file_extension": ".py",
   "mimetype": "text/x-python",
   "name": "python",
   "nbconvert_exporter": "python",
   "pygments_lexer": "ipython3",
   "version": "3.9.12"
  }
 },
 "nbformat": 4,
 "nbformat_minor": 5
}
