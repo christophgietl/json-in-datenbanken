{
 "cells": [
  {
   "cell_type": "markdown",
   "id": "d4c93629-454d-4594-9949-a7a6964cd5a2",
   "metadata": {
    "tags": []
   },
   "source": [
    "# Modulbeschreibung"
   ]
  },
  {
   "cell_type": "markdown",
   "id": "c9485f8b-5954-4b07-ada3-dc378268a8f9",
   "metadata": {
    "tags": []
   },
   "source": [
    "<table style=\"font-size: 1em; margin-left: 0; margin-top: 2em; text-align: left\">\n",
    "    <tr>\n",
    "        <th style=\"border-style: none\">Name</th>\n",
    "        <td style=\"border-style: none\">TODO</td>\n",
    "    </tr>\n",
    "    <tr>\n",
    "        <th style=\"border-style: none\">Zielgruppe</th>\n",
    "        <td style=\"border-style: none\">\n",
    "            Studierende im 4. Semester der B.Sc.-Studiengänge (Wirtschafts-)Informatik\n",
    "        </td>\n",
    "    </tr>\n",
    "    <tr>\n",
    "        <th rowspan=\"2\" style=\"border-style: none\">Voraussetzungen</th>\n",
    "        <td style=\"border-style: none\">grundlegende Datenbank-Kenntnisse (bspw. aus der Vorlesung <q>Datenbanksysteme</q>)</td>\n",
    "    </tr>\n",
    "    <tr>\n",
    "        <td style=\"border-style: none\">grundlegende Kenntnisse der objektorientierten Programmierung (bspw. aus TODO)</td>\n",
    "    </tr>\n",
    "    <tr>\n",
    "        <th rowspan=\"2\" style=\"border-style: none\">Ziele</th>\n",
    "        <td style=\"border-style: none\">TODO</td>\n",
    "    </tr>\n",
    "    <tr>\n",
    "        <td style=\"border-style: none\">TODO</td>\n",
    "    </tr>\n",
    "    <tr>\n",
    "        <th rowspan=\"3\" style=\"border-style: none\">Inhalt</th>\n",
    "        <td style=\"border-style: none\">TODO</td>\n",
    "    </tr>\n",
    "    <tr>\n",
    "        <td style=\"border-style: none\">TODO</td>\n",
    "    </tr>\n",
    "    <tr>\n",
    "        <td style=\"border-style: none\">TODO</td>\n",
    "    </tr>\n",
    "</table>"
   ]
  },
  {
   "cell_type": "markdown",
   "id": "6531a950-b702-4f31-a3c0-b91f581ee1fc",
   "metadata": {
    "tags": []
   },
   "source": [
    "# JSON-Unterstützung in klassischen und NoSQL-Datenbanken anhand eines praktischen Beispiels"
   ]
  },
  {
   "cell_type": "markdown",
   "id": "2172f552-c139-4469-902a-2e97ddc03c53",
   "metadata": {},
   "source": [
    "<table style=\"font-size: 1em; margin-left: 0; margin-top: 2em; text-align: left\">\n",
    "    <tr>\n",
    "        <th style=\"border-style: none; padding-left: 0\">Modul</th>\n",
    "        <td style=\"border-style: none\">TODO</td>\n",
    "    </tr>\n",
    "    <tr>\n",
    "        <th style=\"border-style: none; padding-left: 0\">Dozent</th>\n",
    "        <td style=\"border-style: none\">Christoph Gietl</td>\n",
    "    </tr>\n",
    "    <tr>\n",
    "        <th style=\"border-style: none; padding-left: 0\">Datum</th>\n",
    "        <td style=\"border-style: none\">17. Mai 2022</td>\n",
    "    </tr>\n",
    "    <tr>\n",
    "        <th style=\"border-style: none; padding-left: 0\">Notebook und Ressourcen</th>\n",
    "        <td style=\"border-style: none\">\n",
    "            <a href=\"https://github.com/christophgietl/json-in-datenbanken\">github.com/christophgietl/json-in-datenbanken</a>\n",
    "        </td>\n",
    "    </tr>\n",
    "</table>"
   ]
  },
  {
   "cell_type": "markdown",
   "id": "53eee6ab-8549-4b14-8fa9-608b8b420cf3",
   "metadata": {
    "tags": []
   },
   "source": [
    "## JSON - Das Quiz"
   ]
  },
  {
   "cell_type": "markdown",
   "id": "94f3edc7-782a-4dc9-9b62-bb6462c662b6",
   "metadata": {},
   "source": [
    "### Wofür steht die Abkürzung *JSON*?"
   ]
  },
  {
   "cell_type": "markdown",
   "id": "6d62e34e-5d86-48f8-83b6-2271f5d63695",
   "metadata": {},
   "source": [
    "1. Java Standard Output Network\n",
    "2. June September October November\n",
    "3. JavaScript Object Notation\n",
    "4. Just Some Open Network"
   ]
  },
  {
   "cell_type": "markdown",
   "id": "abcdf16d-4c9d-4d06-a957-04e4bf797ee9",
   "metadata": {},
   "source": [
    "#### Lösung"
   ]
  },
  {
   "cell_type": "markdown",
   "id": "83cbd847-82c4-4b88-b438-50bf15bb488c",
   "metadata": {},
   "source": [
    "Die richtige Antwort lautet *JavaScript Object Notation*.\n",
    "Trotz des JavaScript im Namen wird JSON heute von einer Vielzahl an Programmiersprachen unterstützt."
   ]
  },
  {
   "cell_type": "markdown",
   "id": "a22201ba-561f-40d2-9997-5c0e3a4d1af9",
   "metadata": {},
   "source": [
    "### Welcher der folgenden Texte ist ein valides JSON-Dokument?"
   ]
  },
  {
   "cell_type": "markdown",
   "id": "982f74d2-1ba0-4ec7-bf62-50e8ef941c12",
   "metadata": {},
   "source": [
    "1. `2`\n",
    "2. `{\"id\": 5, \"name\": \"Franziska\"}`\n",
    "3. `[1986, True, \"foo\"]`\n",
    "4. `\"Ali\"`"
   ]
  },
  {
   "cell_type": "markdown",
   "id": "6613f961-e73d-4744-91d9-2159c3ef456b",
   "metadata": {},
   "source": [
    "#### Lösung"
   ]
  },
  {
   "cell_type": "markdown",
   "id": "469d3ef1-f22f-4c4d-982f-ebb1699420b5",
   "metadata": {},
   "source": [
    "Die Antworten 1, 2 und 4 sind valide JSON-Dokumente.\n",
    "In Antwort 3 muss `True` durch `true` ersetzt werden, um ein valides JSON-Dokument zu erhalten."
   ]
  },
  {
   "cell_type": "markdown",
   "id": "88a5019c-4a07-4dc1-90f0-805fd2b8a091",
   "metadata": {},
   "source": [
    "### Welcher der folgenden Begriffe bezeichnet einen Datentyp in JSON?"
   ]
  },
  {
   "cell_type": "markdown",
   "id": "8889cfed-a059-4bff-9314-f3521637c75a",
   "metadata": {},
   "source": [
    "1. List\n",
    "2. Object\n",
    "3. String\n",
    "4. Float"
   ]
  },
  {
   "cell_type": "markdown",
   "id": "ba71323a-5781-4e65-950e-df8248e678e7",
   "metadata": {
    "tags": []
   },
   "source": [
    "#### Lösung"
   ]
  },
  {
   "cell_type": "markdown",
   "id": "168aeb5f-072a-4adf-a9dd-c82e01d1e5d1",
   "metadata": {},
   "source": [
    "Die Antworten 2 und 3 sind JSON-Datentypen.\n",
    "Listen heißen in JSON *Arrays*.\n",
    "Den Datentyp Float gibt es in JSON nicht. Stattdessen gibt es den Datentyp *Number*, der Ganzzahlen und Dezimalzahlen enthalten kann."
   ]
  },
  {
   "cell_type": "markdown",
   "id": "81449cb1-1ba7-4cf0-9152-db50fb17ba9f",
   "metadata": {},
   "source": [
    "### Welche Methode der Python-Standard-Library (PSL) kann ein JSON-Dokument deserialisieren, das als `str` vorliegt?"
   ]
  },
  {
   "cell_type": "markdown",
   "id": "144c32e3-78d3-490a-9eba-4f24e960cb2c",
   "metadata": {},
   "source": [
    "1. `json.loads`\n",
    "2. `json.deserialize`\n",
    "3. `deserialize.json`\n",
    "4. `json.dump`"
   ]
  },
  {
   "cell_type": "markdown",
   "id": "9510b6eb-4ab1-4725-8d82-ddf7d3ce01ad",
   "metadata": {
    "tags": []
   },
   "source": [
    "#### Lösung"
   ]
  },
  {
   "cell_type": "markdown",
   "id": "4e288e77-e64e-492f-ae3f-55eedbf98ec2",
   "metadata": {},
   "source": [
    "Antwort 2 ist richtig.\n",
    "Die PSL enthält keine Methoden namens `json.deserialize` oder `deserialize.json`.\n",
    "Die Methode `json.dump` serialisiert Python-Objekte und speichert sie in einem \"file-like object\" (z.B. eine Datei)."
   ]
  },
  {
   "cell_type": "markdown",
   "id": "e47ca4ff-f0f8-4446-865b-76bee8078e7a",
   "metadata": {},
   "source": [
    "### Welchers Ergebniss liefert die PSL bei der Deserialisierung des JSON-Dokuments `{\"name\": \"Eva\", \"misc\": [5, \"dog\"]}`?"
   ]
  },
  {
   "cell_type": "markdown",
   "id": "9e152cd4-f7ef-4b98-9130-7a59d4eddd4b",
   "metadata": {},
   "source": [
    "1. eine Fehlermeldung\n",
    "2. ein `dict` mit zwei Schlüsseln vom Typ `str` und zwei Werten vom Typ `str`\n",
    "3. ein `tuple` mit vier Elementen\n",
    "4. ein `dict` mit zwei Schlüsseln vom Typ `str`, einem Wert vom Typ `str` und einem Wert vom Typ `list`"
   ]
  },
  {
   "cell_type": "markdown",
   "id": "e81e833e-7223-4a25-a826-9c8b1220cc9d",
   "metadata": {
    "tags": []
   },
   "source": [
    "#### Lösung"
   ]
  },
  {
   "cell_type": "markdown",
   "id": "24fd7760-ec88-4044-b733-fbe739e9654a",
   "metadata": {},
   "source": [
    "Antwort 4 ist richtig.\n",
    "Die JSON-Typen werden [gemäß einer Tabelle](https://docs.python.org/3.10/library/json.html#json.JSONDecoder) in entsprechende Python-Klassen konvertiert. Dabei werden JSON-Objekte in `dict`s und JSON-Arrays in `list`s konvertiert."
   ]
  },
  {
   "cell_type": "markdown",
   "id": "b108282b-c0a9-4ee9-891a-b31d2c681d9b",
   "metadata": {},
   "source": [
    "Im Folgenden verzichten wir auf eine begriffliche Trennung zwischen JSON-Dokumenten und als JSON-Dokument serialisierbaren Python-Objekten:"
   ]
  },
  {
   "cell_type": "code",
   "execution_count": 1,
   "id": "2b69f079-418b-4af0-bd3b-902fa99bfb67",
   "metadata": {},
   "outputs": [
    {
     "data": {
      "text/plain": [
       "str"
      ]
     },
     "execution_count": 1,
     "metadata": {},
     "output_type": "execute_result"
    }
   ],
   "source": [
    "json_document = '{\"name\": \"Eva\", \"misc\": [5, \"dog\"]}'\n",
    "type(json_document)"
   ]
  },
  {
   "cell_type": "code",
   "execution_count": 2,
   "id": "2d4996bd-9471-479c-9ce2-450e98f51032",
   "metadata": {},
   "outputs": [
    {
     "data": {
      "text/plain": [
       "dict"
      ]
     },
     "execution_count": 2,
     "metadata": {},
     "output_type": "execute_result"
    }
   ],
   "source": [
    "python_object = {\"name\": \"Eva\", \"misc\": [5, \"dog\"]}\n",
    "type(python_object)"
   ]
  },
  {
   "cell_type": "markdown",
   "id": "8270ca59-cb2e-4af5-94a0-eecb6a08b794",
   "metadata": {},
   "source": [
    "Stattdessen bezeichnen wir beide als JSON-Dokumente."
   ]
  },
  {
   "cell_type": "markdown",
   "id": "d6255a33-5456-4457-ba08-91d90be61398",
   "metadata": {
    "tags": []
   },
   "source": [
    "## Praxisbeispiel: Nutzer:innenprofile in einer Stellenbörse"
   ]
  },
  {
   "cell_type": "markdown",
   "id": "7e30ee76-d12b-4985-aeaa-23a3f39f85bf",
   "metadata": {},
   "source": [
    "Eine Stellenbörse will ihren Nutzer:innen ermöglichen, ein Profil anzulegen.\n",
    "Dieses Nutzer:innenprofil kann wie folgt aussehen:\n",
    "\n",
    "<img src=\"images/user_profile.png\" width=\"300\" border=\"1\"/>\n",
    "\n",
    "**Quelle:** M. Kleppmann: *Designing Data-Intensive Applications*"
   ]
  },
  {
   "cell_type": "markdown",
   "id": "fb1c1556-dc07-4429-a17f-ffc8782f5cc2",
   "metadata": {},
   "source": [
    "Das Profil enthält einige Attribute des Typs String:\n",
    "- \"Bill\" (Vorname)\n",
    "- \"Gates\" (Nachname)\n",
    "- \"Co-chair of the ... Avid traveler. Active blogger.\" (Zusammenfassung)\n",
    "- \"Greater Seattle Area\" (Region)\n",
    "- \"Philanthropy\" (Branche)"
   ]
  },
  {
   "cell_type": "markdown",
   "id": "911415e5-ea5d-41da-9238-eafa2652896d",
   "metadata": {},
   "source": [
    "Darüberhinaus enthält das Profil einige komplexe Attribute.\n",
    "Zum Beispiel hat das Attribut *Education* als Wert dieses Attributs eine Liste von Stationen.\n",
    "Jede dieser Station besteht aus dem Namen der Bildungseinrichtung und weiteren optionalen Informationen wie dem Ort oder Anfang und Ende des Besuchs."
   ]
  },
  {
   "cell_type": "markdown",
   "id": "6ebde95f-e965-4703-bbf0-e2c9d6fe2514",
   "metadata": {},
   "source": [
    "Das Profil kann in einem JSON-Dokument zusammengefasst werden:"
   ]
  },
  {
   "cell_type": "code",
   "execution_count": 3,
   "id": "70376967-53fc-4dfd-8dd8-646d412f1402",
   "metadata": {},
   "outputs": [],
   "source": [
    "user_251 = {\n",
    "    \"_id\": 251,\n",
    "    \"first_name\": \"Bill\",\n",
    "    \"last_name\": \"Gates\",\n",
    "    \"summary\": \"Co-chair of the Bill & Melinda Gates... Active blogger.\",\n",
    "    \"region\": \"Greater Seattle Area\",\n",
    "    \"industry\": \"Philanthropy\",\n",
    "    \"positions\": [\n",
    "        {\"job_title\": \"Co-chair\", \"organization\": \"Bill & Melinda Gates Foundation\"},\n",
    "        {\"job_title\": \"Co-founder, Chairman\", \"organization\": \"Microsoft\"}\n",
    "    ],\n",
    "    \"education\": [\n",
    "        {\"school_name\": \"Harvard University\", \"start\": 1973, \"end\": 1975},\n",
    "        {\"school_name\": \"Lakeside School, Seattle\"}\n",
    "    ],\n",
    "    \"contact_info\": {\n",
    "        \"blog\": \"https://www.gatesnotes.com/\",\n",
    "        \"twitter\": \"https://twitter.com/BillGates\"\n",
    "    }\n",
    "}"
   ]
  },
  {
   "cell_type": "markdown",
   "id": "5fd96565-d11d-46c6-bb38-d48203832f33",
   "metadata": {},
   "source": [
    "Die Nutzer:innen der Stellenbörse erwarten beim Aufruf einer Profilseite eine schnelle Antwort des Webservers.\n",
    "Daher möchte die Stellenbörse alle Profilinformationen eines Nutzers gebündelt in einem Dokument speichern."
   ]
  },
  {
   "cell_type": "markdown",
   "id": "4563a4f1-3fea-492c-8111-46e93a99019a",
   "metadata": {},
   "source": [
    "Als Technologiestack stehen der Stellenbörse die MongoDB-Instanz `demo-mongo` und die PostgreSQL-Instanz `demo-postgres` zur Verfügung:"
   ]
  },
  {
   "cell_type": "code",
   "execution_count": 4,
   "id": "baaef9a4-a79f-42dc-9296-66a8cb77867d",
   "metadata": {},
   "outputs": [
    {
     "name": "stdout",
     "output_type": "stream",
     "text": [
      "version: \"3.0\"\n",
      "\n",
      "services:\n",
      "  demo-mongo:\n",
      "    image: mongo:4.4\n",
      "  demo-postgres:\n",
      "    environment:\n",
      "      POSTGRES_HOST_AUTH_METHOD: trust\n",
      "    image: postgres:14.2\n",
      "  jupyter:\n",
      "    depends_on:\n",
      "      - demo-mongo\n",
      "      - demo-postgres\n",
      "    image: jupyter/base-notebook:notebook-6.4.11\n",
      "    ports:\n",
      "      - \"8888:8888\"\n",
      "    volumes:\n",
      "      - .:/home/jovyan/work\n",
      "\n"
     ]
    }
   ],
   "source": [
    "import pathlib\n",
    "tech_stack = pathlib.Path(\"docker-compose.yml\")\n",
    "print(tech_stack.read_text())"
   ]
  },
  {
   "cell_type": "markdown",
   "id": "869adf8d-2a39-486a-8454-9b35f8d558ed",
   "metadata": {
    "tags": []
   },
   "source": [
    "### Umsetzung in einem dokumentenorientierten Datenbankmanagementsystem"
   ]
  },
  {
   "cell_type": "markdown",
   "id": "12e4cc2a-778b-4989-81f3-f258f5d312e2",
   "metadata": {},
   "source": [
    "#### MongoDB als dokumentenorientiertes Datenbankmanagementsystem"
   ]
  },
  {
   "cell_type": "markdown",
   "id": "66867df8-08b2-484d-a54f-61dd7fa95b57",
   "metadata": {},
   "source": [
    "MongoDB\n",
    "- ist ein dokumentenorientiertes No-SQL-Datenbankmanagementsystem,\n",
    "- wird von *MongoDB, Inc.* entwickelt,\n",
    "- steht unter der Server-Side-Public-License (eine Modifikation der zuvor verwendeten GNU Affero General Public License),\n",
    "- verwendet [MongoDB Extended JSON](https://www.mongodb.com/docs/v4.4/reference/mongodb-extended-json/) als logisches Datenmodell und\n",
    "- verwendet [BSON](https://www.mongodb.com/docs/v4.4/reference/glossary/) (\"binary JSON\") als physisches Datenmodell.\n",
    "\n",
    "Der Name geht auf das englische Wort *hu**mongo**us* (gigantisch) zurück."
   ]
  },
  {
   "cell_type": "markdown",
   "id": "fc605de9-ad2a-4229-936c-2e17bd05b462",
   "metadata": {
    "tags": []
   },
   "source": [
    "#### Datenbankverbindungen verwalten"
   ]
  },
  {
   "cell_type": "markdown",
   "id": "d2e265eb-70e4-4b1b-a05b-42f6a73c2492",
   "metadata": {},
   "source": [
    "Das Python-Paket `pymongo` steht unter der Apache Software License 2.0.\n",
    "Es erlaubt die Nutzung von MongoDB in Python.\n",
    "Die wichtigste Klasse des Pakets heißt `pymongo.MongoClient`.\n",
    "Sie ermöglicht den Zugriff auf MongoDB-Instanzen."
   ]
  },
  {
   "cell_type": "markdown",
   "id": "6d55998b-a906-4f86-be00-4628f0f2b7a1",
   "metadata": {
    "tags": []
   },
   "source": [
    "Wir installieren das Paket `pymongo` und erstellen ein `pymongo.MongoClient`-Objekt für den Zugriff auf die MongoDb-Instanz `demo-mongo`:"
   ]
  },
  {
   "cell_type": "code",
   "execution_count": 5,
   "id": "4abf4d62-36eb-4c29-9bdc-b4bfa3dd8aff",
   "metadata": {},
   "outputs": [
    {
     "name": "stdout",
     "output_type": "stream",
     "text": [
      "Requirement already satisfied: pymongo~=4.1.1 in /opt/conda/lib/python3.9/site-packages (4.1.1)\n"
     ]
    }
   ],
   "source": [
    "!pip install pymongo~=4.1.1"
   ]
  },
  {
   "cell_type": "code",
   "execution_count": 6,
   "id": "0320e5f7-e46f-4b7a-8f6b-8a4cc4e0ee25",
   "metadata": {
    "tags": []
   },
   "outputs": [],
   "source": [
    "import pymongo\n",
    "demo_mongo_client = pymongo.MongoClient(\"mongodb://demo-mongo\")"
   ]
  },
  {
   "cell_type": "markdown",
   "id": "9f11326c-9c00-4917-9e25-bc47fe3897cb",
   "metadata": {
    "tags": []
   },
   "source": [
    "#### Dokumente organisieren"
   ]
  },
  {
   "cell_type": "markdown",
   "id": "94494326-aa83-47cc-bf84-f67270fff8c5",
   "metadata": {},
   "source": [
    "Jede MongoDB-Instanz verwaltet ihre Dokumente in einer dreistufigen Hierarchie:\n",
    "1. MongoDB-Instanzen enthalten Datenbanken.\n",
    "2. Datenbanken enthalten Collections.\n",
    "3. Collections enthalten Dokumente."
   ]
  },
  {
   "cell_type": "markdown",
   "id": "52a76959-4583-482a-a5e0-af3ff886cce9",
   "metadata": {},
   "source": [
    "**Achtung:** MongoDB akzeptiert nur JSON-Dokumente vom Typ JSON-Objekt als (MongoDB-)Dokumente. Diese JSON-Objekte können als Werte beliebige JSON-Dokumente enthalten (bspw. JSON-Arrays, JSON-Objekte oder JSON-Strings)."
   ]
  },
  {
   "cell_type": "markdown",
   "id": "b36ab44b-3102-4764-8b4f-c8289f0810a3",
   "metadata": {},
   "source": [
    "Datenbanken und Collections müssen nicht explizit angelegt werden.\n",
    "Sie werden automatisch angelegt, wenn zum ersten Mal auf sie zugegriffen wird."
   ]
  },
  {
   "cell_type": "markdown",
   "id": "789214ff-7e4e-4d0c-a220-8c634278e66d",
   "metadata": {},
   "source": [
    "Wir verwalten die Dokumente unserer Stellenbörse in der Datenbank `employment`:"
   ]
  },
  {
   "cell_type": "code",
   "execution_count": 7,
   "id": "95d56ea7-2f40-42cc-a050-1e4fe4089a87",
   "metadata": {
    "tags": []
   },
   "outputs": [
    {
     "data": {
      "text/plain": [
       "pymongo.database.Database"
      ]
     },
     "execution_count": 7,
     "metadata": {},
     "output_type": "execute_result"
    }
   ],
   "source": [
    "employment = demo_mongo_client[\"employment\"]\n",
    "type(employment)"
   ]
  },
  {
   "cell_type": "markdown",
   "id": "77c26304-b149-4ead-98e8-e3c7e8423dfa",
   "metadata": {},
   "source": [
    "Die Profile der Nutzer:innen speichern wir in der Collection `users`:"
   ]
  },
  {
   "cell_type": "code",
   "execution_count": 8,
   "id": "77e8ba58-9fce-4d30-8e38-de09972c25c9",
   "metadata": {
    "tags": []
   },
   "outputs": [
    {
     "data": {
      "text/plain": [
       "pymongo.collection.Collection"
      ]
     },
     "execution_count": 8,
     "metadata": {},
     "output_type": "execute_result"
    }
   ],
   "source": [
    "users = employment[\"users\"]\n",
    "type(users)"
   ]
  },
  {
   "cell_type": "markdown",
   "id": "8e3a729e-1993-4685-97ad-d21becf0605d",
   "metadata": {},
   "source": [
    "Zu Beginn unseres Beispiels stellen wir sicher, dass die Collection `users` leer ist: "
   ]
  },
  {
   "cell_type": "code",
   "execution_count": 9,
   "id": "db089934-7ebd-493b-9e10-b79287820b5a",
   "metadata": {
    "tags": []
   },
   "outputs": [],
   "source": [
    "users.drop()"
   ]
  },
  {
   "cell_type": "markdown",
   "id": "f7cbf03f-ec06-41ae-906a-f5779261bce6",
   "metadata": {
    "tags": []
   },
   "source": [
    "#### Dokumente einfügen"
   ]
  },
  {
   "cell_type": "markdown",
   "id": "ffd4433f-454b-44b6-82fe-a25902d96cd8",
   "metadata": {},
   "source": [
    "Die Methode `insert_one` der Klasse `pymongo.collection.Collection` fügt ein JSON-Objekt zur Collection hinzu. Falls das JSON-Objekt ein Attribut mit dem Namen `_id` enthält, verwendet MongoDB dieses Attribut als Primärschlüssel. Falls nicht, erzeugt MongoDB einen Primärschlüssel und fügt ihn als Attribut mit dem Namen `_id` hinzu."
   ]
  },
  {
   "cell_type": "markdown",
   "id": "7dc84868-eb4b-4b98-8259-3b103af0bff7",
   "metadata": {},
   "source": [
    "Wir fügen ein JSON-Objekt zur Collection `users` hinzu:"
   ]
  },
  {
   "cell_type": "code",
   "execution_count": 10,
   "id": "164d17fc-6b39-41dd-a6f6-0215f6ac80d2",
   "metadata": {},
   "outputs": [
    {
     "data": {
      "text/plain": [
       "<pymongo.results.InsertOneResult at 0x7f6c01bc8dc0>"
      ]
     },
     "execution_count": 10,
     "metadata": {},
     "output_type": "execute_result"
    }
   ],
   "source": [
    "users.insert_one(user_251)"
   ]
  },
  {
   "cell_type": "markdown",
   "id": "3c4ce7f2-c3b7-46f3-b7a0-b5a994e124e7",
   "metadata": {
    "tags": []
   },
   "source": [
    "#### Dokumenten abfragen"
   ]
  },
  {
   "cell_type": "markdown",
   "id": "695dbe94-d1b2-4973-81f4-d0241744e60a",
   "metadata": {},
   "source": [
    "Die Methode `find` der Klasse `pymongo.collection.Collection` ermöglicht das Abfragen von Dokumenten."
   ]
  },
  {
   "cell_type": "markdown",
   "id": "9016cfeb-84f5-4715-bc11-0f785982e87f",
   "metadata": {
    "tags": []
   },
   "source": [
    "##### Alle Dokumente abfragen"
   ]
  },
  {
   "cell_type": "markdown",
   "id": "a3064c63-897d-484e-9c3b-e2e7fb690032",
   "metadata": {},
   "source": [
    "Die Methode `find` liefert einen Cursor als Rückgabewert:"
   ]
  },
  {
   "cell_type": "code",
   "execution_count": 11,
   "id": "627c8780-8629-4ff2-b6b2-1ea47c9f3b1e",
   "metadata": {},
   "outputs": [
    {
     "data": {
      "text/plain": [
       "<pymongo.cursor.Cursor at 0x7f6c01bdd9d0>"
      ]
     },
     "execution_count": 11,
     "metadata": {},
     "output_type": "execute_result"
    }
   ],
   "source": [
    "documents = users.find({})\n",
    "documents"
   ]
  },
  {
   "cell_type": "markdown",
   "id": "50a9e40d-225b-43c8-b070-0092fcf28c30",
   "metadata": {},
   "source": [
    "Wir konstruieren eine Liste, um alle Ergebnisse der Abfrage zu erhalten:"
   ]
  },
  {
   "cell_type": "code",
   "execution_count": 12,
   "id": "bb952498-1afb-40b5-af39-0cb8b4c53f80",
   "metadata": {},
   "outputs": [
    {
     "data": {
      "text/plain": [
       "[{'_id': 251,\n",
       "  'first_name': 'Bill',\n",
       "  'last_name': 'Gates',\n",
       "  'summary': 'Co-chair of the Bill & Melinda Gates... Active blogger.',\n",
       "  'region': 'Greater Seattle Area',\n",
       "  'industry': 'Philanthropy',\n",
       "  'positions': [{'job_title': 'Co-chair',\n",
       "    'organization': 'Bill & Melinda Gates Foundation'},\n",
       "   {'job_title': 'Co-founder, Chairman', 'organization': 'Microsoft'}],\n",
       "  'education': [{'school_name': 'Harvard University',\n",
       "    'start': 1973,\n",
       "    'end': 1975},\n",
       "   {'school_name': 'Lakeside School, Seattle'}],\n",
       "  'contact_info': {'blog': 'https://www.gatesnotes.com/',\n",
       "   'twitter': 'https://twitter.com/BillGates'}}]"
      ]
     },
     "execution_count": 12,
     "metadata": {},
     "output_type": "execute_result"
    }
   ],
   "source": [
    "list(documents)"
   ]
  },
  {
   "cell_type": "markdown",
   "id": "e56d4ca0-f4a0-4d8f-a49b-b526207ace4f",
   "metadata": {
    "tags": []
   },
   "source": [
    "##### Felder einschränken"
   ]
  },
  {
   "cell_type": "markdown",
   "id": "01e56cee-1224-4eb1-95b1-28d539cb8165",
   "metadata": {},
   "source": [
    "Die Methode `find` nimmt ein zweites Argument entgegen.\n",
    "Mit diesem Argument weisen wir die MongoDB-Instanz an, nur bestimmte Felder der Dokumente zurückzugeben."
   ]
  },
  {
   "cell_type": "code",
   "execution_count": 13,
   "id": "f7167371-43a7-43ee-8f0e-9ef615c00dc2",
   "metadata": {},
   "outputs": [
    {
     "data": {
      "text/plain": [
       "[{'_id': 251,\n",
       "  'first_name': 'Bill',\n",
       "  'positions': [{'organization': 'Bill & Melinda Gates Foundation'},\n",
       "   {'organization': 'Microsoft'}]}]"
      ]
     },
     "execution_count": 13,
     "metadata": {},
     "output_type": "execute_result"
    }
   ],
   "source": [
    "documents = users.find({}, {\"first_name\": 1, \"positions.organization\": 1})\n",
    "list(documents)"
   ]
  },
  {
   "cell_type": "markdown",
   "id": "c08c61fa-26f2-44e0-99a7-5aa2266463d0",
   "metadata": {},
   "source": [
    "Mit dem Punkt in `positions.organization` konnten wir auf das Attribut `organization` der Objekte im Attribut `positions` zugreifen.\n",
    "Da es sich bei `positions` um ein Array von Objekten handelt, haben wir auch ein Array von Objekten erhalten (mit dem jeweils einizigen Attribut `organization`)."
   ]
  },
  {
   "cell_type": "markdown",
   "id": "79a94aef-7818-4bc4-8d40-057fb5a75cb6",
   "metadata": {},
   "source": [
    "Zusätzlich zu den von uns spezifizierten Attributen `first_name` und `positions.organization` haben wir noch den Primärschlüssel `_id` erhalten.\n",
    "Wenn wir den Primärschlüssel nicht erhalten wollen, müssen wir ihn explizit ausschließen:"
   ]
  },
  {
   "cell_type": "code",
   "execution_count": 14,
   "id": "b236fca4-aace-422e-a175-b35110d6162c",
   "metadata": {},
   "outputs": [
    {
     "data": {
      "text/plain": [
       "[{'first_name': 'Bill', 'last_name': 'Gates'}]"
      ]
     },
     "execution_count": 14,
     "metadata": {},
     "output_type": "execute_result"
    }
   ],
   "source": [
    "names_only = {\"_id\": 0, \"first_name\": 1, \"last_name\": 1}\n",
    "documents = users.find({}, names_only)\n",
    "list(documents)"
   ]
  },
  {
   "cell_type": "markdown",
   "id": "218a0da4-a9bc-414a-b1c0-7cc362c97aa6",
   "metadata": {
    "tags": []
   },
   "source": [
    "##### Dokumente einschränken"
   ]
  },
  {
   "cell_type": "markdown",
   "id": "22a64972-db6f-4a9c-b5b8-02af0680778d",
   "metadata": {},
   "source": [
    "Neben den Feldern können wir auch einschränken, welche Dokumente der Collection die Methode `find` zurückgeben soll."
   ]
  },
  {
   "cell_type": "markdown",
   "id": "3d8bea4c-ef56-4a6d-86fe-5f5f6c925a7a",
   "metadata": {},
   "source": [
    "Wenn wir nach einem bestimmten Primärschlüssel suchen, erhalten wir maximal ein Dokument:"
   ]
  },
  {
   "cell_type": "code",
   "execution_count": 15,
   "id": "860a331c-8a8c-4eea-9657-f1f369643e57",
   "metadata": {},
   "outputs": [
    {
     "data": {
      "text/plain": [
       "[{'first_name': 'Bill', 'last_name': 'Gates'}]"
      ]
     },
     "execution_count": 15,
     "metadata": {},
     "output_type": "execute_result"
    }
   ],
   "source": [
    "documents = users.find({\"_id\": 251}, names_only)\n",
    "list(documents)"
   ]
  },
  {
   "cell_type": "code",
   "execution_count": 16,
   "id": "33bb8b3a-a430-4536-9203-9146404ac7a5",
   "metadata": {},
   "outputs": [
    {
     "data": {
      "text/plain": [
       "[]"
      ]
     },
     "execution_count": 16,
     "metadata": {},
     "output_type": "execute_result"
    }
   ],
   "source": [
    "documents = users.find({\"_id\": 12}, names_only)\n",
    "list(documents)"
   ]
  },
  {
   "cell_type": "markdown",
   "id": "c505a11d-8f59-4a32-81bb-4f1521e1d147",
   "metadata": {},
   "source": [
    "Neben dem Primärschlüssel können wir auch nach anderen Attributen suchen:"
   ]
  },
  {
   "cell_type": "code",
   "execution_count": 17,
   "id": "bcb3c714-fa06-49b1-9d31-2930d8467a47",
   "metadata": {},
   "outputs": [
    {
     "data": {
      "text/plain": [
       "[{'first_name': 'Bill', 'last_name': 'Gates'}]"
      ]
     },
     "execution_count": 17,
     "metadata": {},
     "output_type": "execute_result"
    }
   ],
   "source": [
    "documents = users.find({\"last_name\": \"Gates\"}, names_only)\n",
    "list(documents)"
   ]
  },
  {
   "cell_type": "markdown",
   "id": "27850edd-c933-47e6-8c02-a72f28c0150a",
   "metadata": {},
   "source": [
    "Mit dem Punkt können wir auch nach Attributen von Unterobjekten suchen:"
   ]
  },
  {
   "cell_type": "code",
   "execution_count": 18,
   "id": "d440f3f6-1738-46ce-be4f-a608be7b78bd",
   "metadata": {},
   "outputs": [
    {
     "data": {
      "text/plain": [
       "[{'_id': 251,\n",
       "  'first_name': 'Bill',\n",
       "  'last_name': 'Gates',\n",
       "  'summary': 'Co-chair of the Bill & Melinda Gates... Active blogger.',\n",
       "  'region': 'Greater Seattle Area',\n",
       "  'industry': 'Philanthropy',\n",
       "  'positions': [{'job_title': 'Co-chair',\n",
       "    'organization': 'Bill & Melinda Gates Foundation'},\n",
       "   {'job_title': 'Co-founder, Chairman', 'organization': 'Microsoft'}],\n",
       "  'education': [{'school_name': 'Harvard University',\n",
       "    'start': 1973,\n",
       "    'end': 1975},\n",
       "   {'school_name': 'Lakeside School, Seattle'}],\n",
       "  'contact_info': {'blog': 'https://www.gatesnotes.com/',\n",
       "   'twitter': 'https://twitter.com/BillGates'}}]"
      ]
     },
     "execution_count": 18,
     "metadata": {},
     "output_type": "execute_result"
    }
   ],
   "source": [
    "documents = users.find(\n",
    "    {\"contact_info.twitter\": \"https://twitter.com/BillGates\"}\n",
    ")\n",
    "list(documents)"
   ]
  },
  {
   "cell_type": "markdown",
   "id": "55da7e5d-0144-4db6-bba1-e9fbf0e5b8a4",
   "metadata": {},
   "source": [
    "Wenn das Attribut links des Punkts den Typ Array hat, genügt es, wenn eines der Elemente ein Objekt mit dem gewünschten Attribut ist:"
   ]
  },
  {
   "cell_type": "code",
   "execution_count": 19,
   "id": "2229aecd-dffe-4b8d-b7e0-231a24584f34",
   "metadata": {},
   "outputs": [
    {
     "data": {
      "text/plain": [
       "[{'first_name': 'Bill',\n",
       "  'last_name': 'Gates',\n",
       "  'positions': [{'job_title': 'Co-chair',\n",
       "    'organization': 'Bill & Melinda Gates Foundation'},\n",
       "   {'job_title': 'Co-founder, Chairman', 'organization': 'Microsoft'}]}]"
      ]
     },
     "execution_count": 19,
     "metadata": {},
     "output_type": "execute_result"
    }
   ],
   "source": [
    "documents = users.find(\n",
    "    {\"positions.organization\": \"Microsoft\"},\n",
    "    {\"_id\": 0, \"first_name\": 1, \"last_name\": 1, \"positions\": 1}\n",
    ")\n",
    "list(documents)"
   ]
  },
  {
   "cell_type": "markdown",
   "id": "f640c12f-98ad-4188-9c6c-5a4f1148b817",
   "metadata": {
    "tags": []
   },
   "source": [
    "#### Dokumente verändern"
   ]
  },
  {
   "cell_type": "markdown",
   "id": "557f5d55-8d53-4d32-bc4a-ffbccd248982",
   "metadata": {},
   "source": [
    "Die Methode `update_many` der Klasse `pymongo.collection.Collection` ermöglicht das Verändern von Dokumenten:"
   ]
  },
  {
   "cell_type": "code",
   "execution_count": 20,
   "id": "5d495e3f-4377-4d6c-a185-fe3de3900f24",
   "metadata": {},
   "outputs": [
    {
     "data": {
      "text/plain": [
       "[{'first_name': 'William', 'last_name': 'Gates'}]"
      ]
     },
     "execution_count": 20,
     "metadata": {},
     "output_type": "execute_result"
    }
   ],
   "source": [
    "users.update_many({\"_id\": 251}, {\"$set\": {\"first_name\": \"William\"}})\n",
    "documents = users.find({\"_id\": 251}, names_only)\n",
    "list(documents)"
   ]
  },
  {
   "cell_type": "markdown",
   "id": "9f79d839-29c9-47e8-8fea-89806f67af50",
   "metadata": {
    "tags": []
   },
   "source": [
    "#### Dokumente löschen"
   ]
  },
  {
   "cell_type": "markdown",
   "id": "9a2827cf-0fcc-4114-8b7f-3ebb73456b73",
   "metadata": {},
   "source": [
    "Die Methode `delete_many` der Klasse `pymongo.collection.Collection` ermöglicht das Löschen von Dokumenten:"
   ]
  },
  {
   "cell_type": "code",
   "execution_count": 21,
   "id": "23742514-c1d1-4ce8-a98f-e0e797ddb91b",
   "metadata": {},
   "outputs": [
    {
     "data": {
      "text/plain": [
       "[]"
      ]
     },
     "execution_count": 21,
     "metadata": {},
     "output_type": "execute_result"
    }
   ],
   "source": [
    "users.delete_many({\"last_name\": \"Gates\"})\n",
    "documents = users.find({\"_id\": 251}, names_only)\n",
    "list(documents)"
   ]
  },
  {
   "cell_type": "markdown",
   "id": "972c6006-b3d4-4055-9b2e-695df763992c",
   "metadata": {
    "tags": []
   },
   "source": [
    "#### Referenzen zwischen Dokumenten"
   ]
  },
  {
   "cell_type": "markdown",
   "id": "e990df57-fe93-4216-a9b3-3ba22d22388b",
   "metadata": {},
   "source": [
    "Mit wachsender Nutzer:innenzahl der Stellenbörse wollen wir unsere Nutzer:innen-Dokumente normalisieren.\n",
    "Das heißt, wir wollen\n",
    "1. einzelne Informationen der Nutzer:innen in eigene Collections auslagern (bspw. die Branche (`industry`)) und\n",
    "2. das Dokument der jeweiligen Branche im Dokument des:der Nutzer:in referenzieren."
   ]
  },
  {
   "cell_type": "markdown",
   "id": "2ec999d8-2b47-4339-aebf-d9218b911c5b",
   "metadata": {},
   "source": [
    "Dafür legen wir die Collection `industries` an:"
   ]
  },
  {
   "cell_type": "code",
   "execution_count": 22,
   "id": "d3781134-159d-425b-b587-0af17705779d",
   "metadata": {},
   "outputs": [
    {
     "data": {
      "text/plain": [
       "<pymongo.results.InsertManyResult at 0x7f6c0035ad60>"
      ]
     },
     "execution_count": 22,
     "metadata": {},
     "output_type": "execute_result"
    }
   ],
   "source": [
    "industries = employment[\"industries\"]\n",
    "industries.drop()\n",
    "industries.insert_many([\n",
    "    {\n",
    "        \"_id\": 43,\n",
    "        \"name\": \"Financial Services\",\n",
    "        \"description\": \"Banking, etc.\"\n",
    "    },\n",
    "    {\"_id\": 48, \"name\": \"Construction\"},\n",
    "    {\"_id\": 131, \"name\": \"Philanthropy\"}\n",
    "])"
   ]
  },
  {
   "cell_type": "markdown",
   "id": "4b7413eb-386f-4c55-8f2b-6e9a3953492b",
   "metadata": {},
   "source": [
    "Außerdem legen wir die Collection `regions` an:"
   ]
  },
  {
   "cell_type": "code",
   "execution_count": 23,
   "id": "b95ecf65-7ac5-4cb0-8c9b-7092a570ff11",
   "metadata": {},
   "outputs": [
    {
     "data": {
      "text/plain": [
       "<pymongo.results.InsertManyResult at 0x7f6c0035ac70>"
      ]
     },
     "execution_count": 23,
     "metadata": {},
     "output_type": "execute_result"
    }
   ],
   "source": [
    "regions = employment[\"regions\"]\n",
    "regions.drop()\n",
    "regions.insert_many([\n",
    "    {\"_id\": \"us:7\", \"name\": \"Greater Boston Area\"},\n",
    "    {\n",
    "        \"_id\": \"us:91\",\n",
    "        \"name\": \"Greater Seattle Area\",\n",
    "        \"state\": \"Washington\"\n",
    "    }\n",
    "])"
   ]
  },
  {
   "cell_type": "markdown",
   "id": "6a36ac1b-53bb-4f1e-8fee-4b27a428edd9",
   "metadata": {},
   "source": [
    "Wir fügen nun einen Nutzer hinzu, dessen Attribute `industry` und `region` auf jeweils ein Dokument der entsprechenden Collection verweisen:"
   ]
  },
  {
   "cell_type": "code",
   "execution_count": 24,
   "id": "14cbaa62-ee53-42fa-94de-2ed7de5e167c",
   "metadata": {},
   "outputs": [
    {
     "data": {
      "text/plain": [
       "<pymongo.results.InsertOneResult at 0x7f6c00368820>"
      ]
     },
     "execution_count": 24,
     "metadata": {},
     "output_type": "execute_result"
    }
   ],
   "source": [
    "import bson.dbref\n",
    "users.insert_one({\n",
    "    \"_id\": 251,\n",
    "    \"first_name\": \"Bill\",\n",
    "    \"last_name\": \"Gates\",\n",
    "    \"summary\": \"Co-chair of the Bill & Melinda Gates... Active blogger.\",\n",
    "    \"region\": bson.dbref.DBRef(collection=regions.name, id=\"us:91\"),\n",
    "    \"industry\": bson.dbref.DBRef(collection=industries.name, id=\"131\"),\n",
    "    \"positions\": [\n",
    "        {\"job_title\": \"Co-chair\", \"organization\": \"Bill & Melinda Gates Foundation\"},\n",
    "        {\"job_title\": \"Co-founder, Chairman\", \"organization\": \"Microsoft\"}\n",
    "    ],\n",
    "    \"education\": [\n",
    "        {\"school_name\": \"Harvard University\", \"start\": 1973, \"end\": 1975},\n",
    "        {\"school_name\": \"Lakeside School, Seattle\"}\n",
    "    ],\n",
    "    \"contact_info\": {\n",
    "        \"blog\": \"https://www.gatesnotes.com/\",\n",
    "        \"twitter\": \"https://twitter.com/BillGates\"\n",
    "    }\n",
    "})"
   ]
  },
  {
   "cell_type": "markdown",
   "id": "339af0a8-5ce7-4551-9bd1-8652b9f82d06",
   "metadata": {},
   "source": [
    "Eine Abfrage dieses Nutzers liefert keinen menschenlesbaren Namen der Region.\n",
    "Stattdessen wird ein Fremdschlüssel auf die Collection `regions` geliefert:"
   ]
  },
  {
   "cell_type": "code",
   "execution_count": 25,
   "id": "579fc3ea-2406-4da8-8811-7ff188ccd821",
   "metadata": {},
   "outputs": [
    {
     "data": {
      "text/plain": [
       "{'last_name': 'Gates', 'region': DBRef('regions', 'us:91')}"
      ]
     },
     "execution_count": 25,
     "metadata": {},
     "output_type": "execute_result"
    }
   ],
   "source": [
    "user = users.find_one(\n",
    "    {\"_id\": 251},\n",
    "    {\"_id\": 0, \"last_name\": 1, \"region\": 1}\n",
    ")\n",
    "user"
   ]
  },
  {
   "cell_type": "markdown",
   "id": "9c3756d3-cbb2-44ff-961c-2f7d7fd7a1ba",
   "metadata": {},
   "source": [
    "Dieser Fremdschlüssel muss von der Anwendung aufgelöst werden.\n",
    "Die Klasse `pymongo.database.Database` stellt dafür die Methode `dereference` bereit:"
   ]
  },
  {
   "cell_type": "code",
   "execution_count": 26,
   "id": "b5173dfe-9821-4ace-9c12-3d83174b1d67",
   "metadata": {},
   "outputs": [
    {
     "data": {
      "text/plain": [
       "{'_id': 'us:91', 'name': 'Greater Seattle Area', 'state': 'Washington'}"
      ]
     },
     "execution_count": 26,
     "metadata": {},
     "output_type": "execute_result"
    }
   ],
   "source": [
    "employment.dereference(user[\"region\"])"
   ]
  },
  {
   "cell_type": "markdown",
   "id": "ab026e11-7737-41a5-865f-c2f461525d80",
   "metadata": {},
   "source": [
    "Wir haben also zwei Datenbank-Abfragen benötigt, um den Namen der Region des Nutzers mit dem Primärschlüssel `251` zu finden:\n",
    "1. Finde das Dokument mit dem Primärschlüssel `251` in der Collection `users`.\n",
    "2. Finde das Dokument mit dem Primärschlüssel `us:91` in der Collection `regions`.\n",
    "\n",
    "Relationale Datenbankmanagementsysteme erlauben die Verbindung zweier Tabellen in einer Abfrage mithilfe des `join`-Statements.\n",
    "Eine vergleichbare Verbindung zweier Collections in einer Abfrage wird von MongoDB nicht unterstützt."
   ]
  },
  {
   "cell_type": "markdown",
   "id": "30446b00-638b-42a2-b17c-e7cd2f4eebb2",
   "metadata": {
    "tags": []
   },
   "source": [
    "### Umsetzung in einem relationalen Datenbankmanagementsystem"
   ]
  },
  {
   "cell_type": "markdown",
   "id": "cfbd6d7b-1be8-488b-96a9-ef4203239a5d",
   "metadata": {},
   "source": [
    "#### PostgreSQL als relationales Datenbankmanagementsystem"
   ]
  },
  {
   "cell_type": "markdown",
   "id": "b6fda51a-204d-4ec3-9803-66bf083b81bb",
   "metadata": {},
   "source": [
    "PostgreSQL\n",
    "- ist ein relationales-Datenbankmanagementsystem,\n",
    "- steht unter der PostgreSQL-License (eine Free-and-Open-Source-Lizenz),\n",
    "- verwendet das relationale Datenmodell als logisches Datenmodell."
   ]
  },
  {
   "cell_type": "markdown",
   "id": "ce62a88d-c859-4d07-a042-ae83838e2244",
   "metadata": {},
   "source": [
    "Die JSON-Unterstützung wurde in den letzten Jahren schrittweise ausgebaut.\n",
    "Für die Verwaltung von JSON-Dokumenten wurden zwei Typen hinzugefügt:\n",
    "1. Der Typ `json` speichert JSON-Dokumente als Texte. Im Gegensatz zum Typ `text` wird vor dem Speichern eine JSON-Validierung durchgeführt.\n",
    "2. Der Typ `jsonb` speichert JSON-Dokumente in einem speziellen Binärformat. Die Umwandlung verursacht zusätzlichen Overhead beim Schreiben. Im Gegenzug werden Abfragen in der Regel beschleunigt."
   ]
  },
  {
   "cell_type": "markdown",
   "id": "df552313-ec1f-422e-b7f4-f4bf1d1681e5",
   "metadata": {
    "tags": []
   },
   "source": [
    "#### Datenbankverbindungen verwalten"
   ]
  },
  {
   "cell_type": "markdown",
   "id": "bb42ebe7-a8fb-4730-a482-86bfc7b9d8b5",
   "metadata": {},
   "source": [
    "Das Python-Paket `psycopg` steht unter der GNU LGPL 3.0.\n",
    "Es erlaubt die Nutzung von PostgreSQL in Python.\n",
    "Die wichtigste Klasse des Pakets heißt `psycopg.Connection`.\n",
    "Sie ermöglicht den Zugriff auf PostgreSQL-Instanzen."
   ]
  },
  {
   "cell_type": "markdown",
   "id": "55eb8420-7b6d-4ad9-bd0a-98c9c539df9b",
   "metadata": {},
   "source": [
    "Wir installieren das Paket `psycopg` und erstellen ein `psycopg.Connection`-Objekt für den Zugriff auf die PostgreSQL-Instanz `demo-postgres`:"
   ]
  },
  {
   "cell_type": "code",
   "execution_count": 27,
   "id": "3101dc00-fa90-46df-ad8c-5cd5752ce174",
   "metadata": {},
   "outputs": [
    {
     "name": "stdout",
     "output_type": "stream",
     "text": [
      "Requirement already satisfied: psycopg[binary]~=3.0.13 in /opt/conda/lib/python3.9/site-packages (3.0.14)\n",
      "Requirement already satisfied: psycopg-binary==3.0.14 in /opt/conda/lib/python3.9/site-packages (from psycopg[binary]~=3.0.13) (3.0.14)\n"
     ]
    }
   ],
   "source": [
    "!pip install psycopg[binary]~=3.0.13"
   ]
  },
  {
   "cell_type": "code",
   "execution_count": 28,
   "id": "cf8a5024-a6b9-4be8-a800-6b1c64bc58b4",
   "metadata": {},
   "outputs": [
    {
     "data": {
      "text/plain": [
       "psycopg.Connection"
      ]
     },
     "execution_count": 28,
     "metadata": {},
     "output_type": "execute_result"
    }
   ],
   "source": [
    "import psycopg\n",
    "conn = psycopg.connect(\"postgresql://postgres@demo-postgres/postgres\", autocommit=True)\n",
    "type(conn)"
   ]
  },
  {
   "cell_type": "markdown",
   "id": "90ee49e7-29f2-4fa0-8d10-a359e47d21f4",
   "metadata": {},
   "source": [
    "Außerdem erstellen wir ein Objekt der Klasse `psycopg.Cursor`:"
   ]
  },
  {
   "cell_type": "code",
   "execution_count": 29,
   "id": "2564dfa9-f169-42c9-88e0-8a1e638d7d25",
   "metadata": {},
   "outputs": [
    {
     "data": {
      "text/plain": [
       "psycopg.Cursor"
      ]
     },
     "execution_count": 29,
     "metadata": {},
     "output_type": "execute_result"
    }
   ],
   "source": [
    "cur = conn.cursor()\n",
    "type(cur)"
   ]
  },
  {
   "cell_type": "markdown",
   "id": "8e7b6b42-3ec5-4aca-88c5-c424416394f1",
   "metadata": {},
   "source": [
    "Die Klasse `psycopg.Cursor` erlaubt\n",
    "1. das Ausführen von SQL-Queries mithilfe der Methode `execute` und\n",
    "2. das Abrufen der Resultate der letzten SQL-Query mithilfe der Methode `fetchall`."
   ]
  },
  {
   "cell_type": "markdown",
   "id": "aa75a352-4dce-4252-a60e-4010565b2020",
   "metadata": {
    "tags": []
   },
   "source": [
    "#### Dokumente organisieren"
   ]
  },
  {
   "cell_type": "markdown",
   "id": "cb8c4a0e-d763-4996-ac56-e4285489e91b",
   "metadata": {},
   "source": [
    "Wir erstellen die Tabelle `users` mit der Spalte `doc` vom Typ `jsonb`:"
   ]
  },
  {
   "cell_type": "code",
   "execution_count": 30,
   "id": "dedacdf3-b769-46a5-ad0b-60fb803c6b60",
   "metadata": {},
   "outputs": [
    {
     "data": {
      "text/plain": [
       "<psycopg.Cursor [COMMAND_OK] [IDLE] (host=demo-postgres database=postgres) at 0x7f6c0034e1a0>"
      ]
     },
     "execution_count": 30,
     "metadata": {},
     "output_type": "execute_result"
    }
   ],
   "source": [
    "cur.execute(\"drop table if exists users\")\n",
    "cur.execute(\"create table users(doc jsonb)\")"
   ]
  },
  {
   "cell_type": "markdown",
   "id": "bf7038a0-1c9c-44e3-941b-5dd067aeb49c",
   "metadata": {},
   "source": [
    "#### Dokumente einfügen"
   ]
  },
  {
   "cell_type": "markdown",
   "id": "e5c537b0-b2a8-4988-9de6-701117bdf9ad",
   "metadata": {},
   "source": [
    "PostgreSQL erlaubt das Einfügen von Texten in Spalten vom Typ `jsonb`, sofern es sich bei diesen Texten um valide JSON-Dokumente handelt:\n",
    "\n",
    "```sql\n",
    "insert into users (doc) values ('{ \"first_name\" : \"Bill\"}');\n",
    "```\n",
    "\n",
    "PostgreSQL wandelt diese Texte automatisch in den Typ `jsonb` um.\n",
    "\n",
    "Für die Serialisierung von Python-Objekten als JSON-Dokumente stellt `psycopg` die Wrapper-Klasse `psycopg.types.json.Jsonb` bereit:"
   ]
  },
  {
   "cell_type": "code",
   "execution_count": 31,
   "id": "8acb6b9a-ae99-49dd-8002-b79358f0ad72",
   "metadata": {},
   "outputs": [
    {
     "data": {
      "text/plain": [
       "<psycopg.Cursor [COMMAND_OK] [IDLE] (host=demo-postgres database=postgres) at 0x7f6c0034e1a0>"
      ]
     },
     "execution_count": 31,
     "metadata": {},
     "output_type": "execute_result"
    }
   ],
   "source": [
    "import psycopg.types.json\n",
    "cur.execute(\n",
    "    \"insert into users (doc) values (%s)\",\n",
    "    (psycopg.types.json.Jsonb(user_251),)\n",
    ")"
   ]
  },
  {
   "cell_type": "markdown",
   "id": "90538125-09fb-481e-930e-40498d7b0fc6",
   "metadata": {},
   "source": [
    "#### Dokumente abfragen"
   ]
  },
  {
   "cell_type": "markdown",
   "id": "b63814f0-8474-40c9-837d-20cf8b9928cf",
   "metadata": {},
   "source": [
    "##### Alle Dokumente abfragen"
   ]
  },
  {
   "cell_type": "markdown",
   "id": "b1fd77a0-47e1-4065-9817-4c9bc8152be3",
   "metadata": {},
   "source": [
    "Spalten vom Typ `jsonb` können mithilfe eines `select`-Statements abefragt werden (genau wie andere Spalten):"
   ]
  },
  {
   "cell_type": "code",
   "execution_count": 32,
   "id": "cdc41d0f-fd86-462b-a602-8139aeea9a04",
   "metadata": {},
   "outputs": [
    {
     "data": {
      "text/plain": [
       "[({'_id': 251,\n",
       "   'region': 'Greater Seattle Area',\n",
       "   'summary': 'Co-chair of the Bill & Melinda Gates... Active blogger.',\n",
       "   'industry': 'Philanthropy',\n",
       "   'education': [{'end': 1975,\n",
       "     'start': 1973,\n",
       "     'school_name': 'Harvard University'},\n",
       "    {'school_name': 'Lakeside School, Seattle'}],\n",
       "   'last_name': 'Gates',\n",
       "   'positions': [{'job_title': 'Co-chair',\n",
       "     'organization': 'Bill & Melinda Gates Foundation'},\n",
       "    {'job_title': 'Co-founder, Chairman', 'organization': 'Microsoft'}],\n",
       "   'first_name': 'Bill',\n",
       "   'contact_info': {'blog': 'https://www.gatesnotes.com/',\n",
       "    'twitter': 'https://twitter.com/BillGates'}},)]"
      ]
     },
     "execution_count": 32,
     "metadata": {},
     "output_type": "execute_result"
    }
   ],
   "source": [
    "cur.execute(\"select doc from users\")\n",
    "users = cur.fetchall()\n",
    "users"
   ]
  },
  {
   "cell_type": "markdown",
   "id": "5b77da83-8731-4df7-ae8b-5616452c0cf6",
   "metadata": {},
   "source": [
    "Der Output der Methode `fetchall` ist wie üblich eine Liste von Tupeln:"
   ]
  },
  {
   "cell_type": "code",
   "execution_count": 33,
   "id": "38e75000-a778-4a80-8a19-0edccc730e9d",
   "metadata": {},
   "outputs": [
    {
     "data": {
      "text/plain": [
       "list"
      ]
     },
     "execution_count": 33,
     "metadata": {},
     "output_type": "execute_result"
    }
   ],
   "source": [
    "type(users)"
   ]
  },
  {
   "cell_type": "code",
   "execution_count": 34,
   "id": "c5b2b953-0ad3-4664-a592-54e93924bfa2",
   "metadata": {},
   "outputs": [
    {
     "data": {
      "text/plain": [
       "tuple"
      ]
     },
     "execution_count": 34,
     "metadata": {},
     "output_type": "execute_result"
    }
   ],
   "source": [
    "type(users[0])"
   ]
  },
  {
   "cell_type": "markdown",
   "id": "b11615a5-0841-4705-8410-30e625b2047c",
   "metadata": {},
   "source": [
    "Mithilfe der Zeilen- und der Spaltennummer können wir auf einzelne JSON-Dokumente zugreifen:"
   ]
  },
  {
   "cell_type": "code",
   "execution_count": 35,
   "id": "98b04777-32ed-44db-b96a-a94c565a30e2",
   "metadata": {},
   "outputs": [
    {
     "data": {
      "text/plain": [
       "{'_id': 251,\n",
       " 'region': 'Greater Seattle Area',\n",
       " 'summary': 'Co-chair of the Bill & Melinda Gates... Active blogger.',\n",
       " 'industry': 'Philanthropy',\n",
       " 'education': [{'end': 1975,\n",
       "   'start': 1973,\n",
       "   'school_name': 'Harvard University'},\n",
       "  {'school_name': 'Lakeside School, Seattle'}],\n",
       " 'last_name': 'Gates',\n",
       " 'positions': [{'job_title': 'Co-chair',\n",
       "   'organization': 'Bill & Melinda Gates Foundation'},\n",
       "  {'job_title': 'Co-founder, Chairman', 'organization': 'Microsoft'}],\n",
       " 'first_name': 'Bill',\n",
       " 'contact_info': {'blog': 'https://www.gatesnotes.com/',\n",
       "  'twitter': 'https://twitter.com/BillGates'}}"
      ]
     },
     "execution_count": 35,
     "metadata": {},
     "output_type": "execute_result"
    }
   ],
   "source": [
    "users[0][0]"
   ]
  },
  {
   "cell_type": "markdown",
   "id": "30ededd5-8610-4a92-ab7a-94fa5ff417ee",
   "metadata": {},
   "source": [
    "Diese JSON-Dokumente werden von `fetchall` automatisch in ein Objekt einer geeigneten Python-Klasse umgewandelt:"
   ]
  },
  {
   "cell_type": "code",
   "execution_count": 36,
   "id": "c974eb3b-8907-407d-9ed4-d4f59d5ddba4",
   "metadata": {},
   "outputs": [
    {
     "data": {
      "text/plain": [
       "dict"
      ]
     },
     "execution_count": 36,
     "metadata": {},
     "output_type": "execute_result"
    }
   ],
   "source": [
    "type(users[0][0])"
   ]
  },
  {
   "cell_type": "markdown",
   "id": "df1355bd-5ea1-4b5d-86ff-6682333952da",
   "metadata": {},
   "source": [
    "Mit diesen JSON-Objekten können wir daher arbeiten wie unter Python üblich:"
   ]
  },
  {
   "cell_type": "code",
   "execution_count": 37,
   "id": "9a03c501-f545-4a4b-840a-05ed58e9bc7b",
   "metadata": {},
   "outputs": [
    {
     "data": {
      "text/plain": [
       "[{'end': 1975, 'start': 1973, 'school_name': 'Harvard University'},\n",
       " {'school_name': 'Lakeside School, Seattle'}]"
      ]
     },
     "execution_count": 37,
     "metadata": {},
     "output_type": "execute_result"
    }
   ],
   "source": [
    "users[0][0][\"education\"]"
   ]
  },
  {
   "cell_type": "markdown",
   "id": "adb8966f-fd33-4c9e-b354-37a6dd4b3d53",
   "metadata": {},
   "source": [
    "##### Felder einschränken"
   ]
  },
  {
   "cell_type": "markdown",
   "id": "f99634c1-89a1-4f08-8fc4-e508457ec4ad",
   "metadata": {},
   "source": [
    "Statt die gesamten User-Dokumente abzufragen, können wir auch auf einzelne Felder der Dokumente zugreifen:"
   ]
  },
  {
   "cell_type": "code",
   "execution_count": 38,
   "id": "394bf55e-a95e-43ad-9933-4f0e2829c209",
   "metadata": {},
   "outputs": [
    {
     "data": {
      "text/plain": [
       "<psycopg.Cursor [TUPLES_OK] [IDLE] (host=demo-postgres database=postgres) at 0x7f6c0034e1a0>"
      ]
     },
     "execution_count": 38,
     "metadata": {},
     "output_type": "execute_result"
    }
   ],
   "source": [
    "cur.execute(\"\"\"\n",
    "    select\n",
    "        doc['last_name'],\n",
    "        doc['education'][0]\n",
    "    from users\n",
    "\"\"\")"
   ]
  },
  {
   "cell_type": "markdown",
   "id": "61437cf5-eacc-4c59-9146-a9699dc1601b",
   "metadata": {},
   "source": [
    "Die beiden Spalten `doc['last_name']` und `doc['education'][0]` der resultierenden Tabelle haben beide den PostgreSQL-Typ `jsonb`.\n",
    "\n",
    "Ihr Inhalt wird von der Methode `fetchall` automatisch in Objekte einer geeigneten Python-Klasse umgewandelt."
   ]
  },
  {
   "cell_type": "code",
   "execution_count": 39,
   "id": "85dd9b28-d832-4044-9bf1-f02ae9fc6314",
   "metadata": {},
   "outputs": [
    {
     "data": {
      "text/plain": [
       "[('Gates', {'end': 1975, 'start': 1973, 'school_name': 'Harvard University'})]"
      ]
     },
     "execution_count": 39,
     "metadata": {},
     "output_type": "execute_result"
    }
   ],
   "source": [
    "users = cur.fetchall()\n",
    "users"
   ]
  },
  {
   "cell_type": "code",
   "execution_count": 40,
   "id": "6bea595f-2145-4b70-9111-8bdc8be44aeb",
   "metadata": {},
   "outputs": [
    {
     "data": {
      "text/plain": [
       "str"
      ]
     },
     "execution_count": 40,
     "metadata": {},
     "output_type": "execute_result"
    }
   ],
   "source": [
    "type(users[0][0])"
   ]
  },
  {
   "cell_type": "code",
   "execution_count": 41,
   "id": "d1ab9f06-b01d-4634-8922-7e7b6965f9db",
   "metadata": {},
   "outputs": [
    {
     "data": {
      "text/plain": [
       "dict"
      ]
     },
     "execution_count": 41,
     "metadata": {},
     "output_type": "execute_result"
    }
   ],
   "source": [
    "type(users[0][1])"
   ]
  },
  {
   "cell_type": "markdown",
   "id": "641a1441-eeac-4c38-9137-27f2fce070ea",
   "metadata": {},
   "source": [
    "Für komplexere Operationen (wie bspw. die Abfrage der Organisationen aller Positionen des:der Nutzer:in) reicht die \"Eckige-Klammer-Notation\" nicht aus.\n",
    "Stattdessen benötigen wir die PosgreSQL-Methode `jsonb_path_query_array` und ein Pfad-Argument entsprechend dem JSONPath-Standard:"
   ]
  },
  {
   "cell_type": "code",
   "execution_count": 42,
   "id": "961efc54-5882-42eb-a595-0206b81fcc93",
   "metadata": {},
   "outputs": [
    {
     "data": {
      "text/plain": [
       "[('Gates', ['Bill & Melinda Gates Foundation', 'Microsoft'])]"
      ]
     },
     "execution_count": 42,
     "metadata": {},
     "output_type": "execute_result"
    }
   ],
   "source": [
    "cur.execute(\"\"\"\n",
    "    select\n",
    "        doc['last_name'],\n",
    "        jsonb_path_query_array(doc, '$.positions[*].organization')\n",
    "    from users\n",
    "\"\"\")\n",
    "cur.fetchall()"
   ]
  },
  {
   "cell_type": "markdown",
   "id": "4f640be3-6f40-429a-a9d1-9b13cf3a7401",
   "metadata": {},
   "source": [
    "##### Dokumente einschränken"
   ]
  },
  {
   "cell_type": "markdown",
   "id": "82096a3b-8eab-47f7-bfb9-7bfd8fb019e7",
   "metadata": {},
   "source": [
    "Die \"Eckige-Klammer-Notation\" können wir auch im `where`-Teil der SQL-Query nutzen. Auf diese Weise können wir zum Beispiel nach Nutzern mit einem bestimmten Nachnamen suchen:"
   ]
  },
  {
   "cell_type": "code",
   "execution_count": 43,
   "id": "08eea75d-96ff-41e5-8d67-38891c3b150d",
   "metadata": {},
   "outputs": [
    {
     "data": {
      "text/plain": [
       "[('Gates', ['Bill & Melinda Gates Foundation', 'Microsoft'])]"
      ]
     },
     "execution_count": 43,
     "metadata": {},
     "output_type": "execute_result"
    }
   ],
   "source": [
    "cur.execute(\"\"\"\n",
    "    select\n",
    "        doc['last_name'],\n",
    "        jsonb_path_query_array(doc, '$.positions[*].organization')\n",
    "    from users\n",
    "    where doc['last_name'] = '\"Gates\"'\n",
    "\"\"\")\n",
    "cur.fetchall()"
   ]
  },
  {
   "cell_type": "markdown",
   "id": "f533fb16-e9db-421c-92e0-48eaf8625040",
   "metadata": {},
   "source": [
    "**Achtung:** Da `doc['last_name']` in PostgreSQL den Typ `jsonb` hat, erwartet der Gleichheitsoperator im `where`-Teil des obigen Statements auf der rechten Seite des Gleichheitszeichens ein valides JSON-Dokument. Wir müssen den Namen Gates daher als JSON-String darstellen (`\"Gates\"`) und diesen JSON-String in einem PostgreSQL-String verpacken (`'\"Gates\"'`).\n",
    "\n",
    "Verzichten wir auf die doppelten Anführungszeichen, beschwert sich die PostgreSQL-Instanz über den invaliden Token rechts des Gleichheitszeichens:"
   ]
  },
  {
   "cell_type": "code",
   "execution_count": 44,
   "id": "1f9c3308-aa3c-4e00-85ae-8fd839b0e503",
   "metadata": {},
   "outputs": [
    {
     "name": "stdout",
     "output_type": "stream",
     "text": [
      "invalid input syntax for type json\n",
      "LINE 6:         where doc['last_name'] = 'Gates'\n",
      "                                         ^\n",
      "DETAIL:  Token \"Gates\" is invalid.\n",
      "CONTEXT:  JSON data, line 1: Gates\n"
     ]
    }
   ],
   "source": [
    "try:\n",
    "    cur.execute(\"\"\"\n",
    "        select\n",
    "            doc['last_name'],\n",
    "            jsonb_path_query_array(doc, '$.positions[*].organization')\n",
    "        from users\n",
    "        where doc['last_name'] = 'Gates'\n",
    "    \"\"\")\n",
    "except psycopg.errors.InvalidTextRepresentation as e:\n",
    "    print(e)"
   ]
  },
  {
   "cell_type": "markdown",
   "id": "f6c97a24-33a7-49da-8699-a1f75cfeb51c",
   "metadata": {},
   "source": [
    "#### Dokumente verändern"
   ]
  },
  {
   "cell_type": "markdown",
   "id": "64ac8594-17fe-40d9-990d-89b41ad87da0",
   "metadata": {},
   "source": [
    "Die \"Eckige-Klammer-Notation\" kann auch in Update-Queries benutzt werden. Das funktioniert im `where`-Teil und im `set`-Teil der Query:"
   ]
  },
  {
   "cell_type": "code",
   "execution_count": 45,
   "id": "2085df57-7053-49bb-a768-e1443f780a94",
   "metadata": {},
   "outputs": [
    {
     "data": {
      "text/plain": [
       "[('William', 'Gates')]"
      ]
     },
     "execution_count": 45,
     "metadata": {},
     "output_type": "execute_result"
    }
   ],
   "source": [
    "cur.execute(\"\"\"\n",
    "    update users\n",
    "    set doc['first_name'] = '\"William\"'\n",
    "    where doc['_id'] = '251'\n",
    "\"\"\")\n",
    "cur.execute(\"\"\"\n",
    "    select doc['first_name'], doc['last_name']\n",
    "    from users\n",
    "    where doc['_id'] = '251'\n",
    "\"\"\")\n",
    "cur.fetchall()"
   ]
  },
  {
   "cell_type": "markdown",
   "id": "7b6737b6-d206-40ca-a702-eec48e1b2217",
   "metadata": {},
   "source": [
    "#### Dokumente löschen"
   ]
  },
  {
   "cell_type": "markdown",
   "id": "b6eba853-6c46-4562-9aad-e8399be975f0",
   "metadata": {},
   "source": [
    "Auch im `where`-Teil einer Delete-Query kann die \"Eckige-Klammer-Notation\" verwendet werden:"
   ]
  },
  {
   "cell_type": "code",
   "execution_count": 46,
   "id": "41907768-5f92-4178-bc06-97fd3de51fdf",
   "metadata": {},
   "outputs": [
    {
     "data": {
      "text/plain": [
       "[]"
      ]
     },
     "execution_count": 46,
     "metadata": {},
     "output_type": "execute_result"
    }
   ],
   "source": [
    "cur.execute(\"\"\"\n",
    "    delete from users\n",
    "    where doc['last_name'] = '\"Gates\"'\n",
    "\"\"\")\n",
    "cur.execute(\"\"\"\n",
    "    select doc\n",
    "    from users\n",
    "    where doc['_id'] = '251'\n",
    "\"\"\")\n",
    "cur.fetchall()"
   ]
  },
  {
   "cell_type": "markdown",
   "id": "8d26ae6c-cef1-48b4-bd1e-2a2fb63335a8",
   "metadata": {},
   "source": [
    "#### Referenzen zwischen Dokumenten"
   ]
  },
  {
   "cell_type": "markdown",
   "id": "5f8abe15-4753-4262-be48-d9be05826aff",
   "metadata": {},
   "source": [
    "Zur Normalisierung der Profile der Nutzer:innen legen wir zwei weitere Tabellen `industries` und `regions` an mit jeweils einer Spalte `doc` vom Typ `jsonb`. Um von Primary-Key- und Foreign-Key-Constraints zu profitieren, lagern wir alle Primär- und Fremdschlüssel in eigene Tabellenspalten aus."
   ]
  },
  {
   "cell_type": "markdown",
   "id": "0f2d11cc-5995-4f86-971b-d8de6f4d9194",
   "metadata": {},
   "source": [
    "Wir legen die Tabelle `industries` an:"
   ]
  },
  {
   "cell_type": "code",
   "execution_count": 47,
   "id": "f460bb9a-c351-4f05-afec-bf93478c6c7c",
   "metadata": {},
   "outputs": [
    {
     "data": {
      "text/plain": [
       "[(43, {'name': 'Financial Services', 'description': 'Banking, etc.'}),\n",
       " (48, {'name': 'Construction'}),\n",
       " (131, {'name': 'Philanthropy'})]"
      ]
     },
     "execution_count": 47,
     "metadata": {},
     "output_type": "execute_result"
    }
   ],
   "source": [
    "cur.execute(\"drop table if exists industries\")\n",
    "cur.execute(\"create table industries (id int primary key, doc jsonb)\")\n",
    "cur.executemany(\n",
    "    \"insert into industries (id, doc) values (%s, %s)\",\n",
    "    [\n",
    "        (43, psycopg.types.json.Jsonb({\n",
    "            \"name\": \"Financial Services\",\n",
    "            \"description\": \"Banking, etc.\"})),\n",
    "        (48, psycopg.types.json.Jsonb({\"name\": \"Construction\"})),\n",
    "        (131, psycopg.types.json.Jsonb({\"name\": \"Philanthropy\"}))\n",
    "    ]\n",
    ")\n",
    "cur.execute(\"select id, doc from industries\")\n",
    "cur.fetchall()"
   ]
  },
  {
   "cell_type": "markdown",
   "id": "3cf1f805-d634-4ca8-b0e7-7ce9fad8abd0",
   "metadata": {},
   "source": [
    "Wir legen die Tabelle `regions` an:"
   ]
  },
  {
   "cell_type": "code",
   "execution_count": 48,
   "id": "ec193120-f47c-47c3-b5df-de6e08f62df3",
   "metadata": {},
   "outputs": [
    {
     "data": {
      "text/plain": [
       "[('us:7', {'name': 'Greater Boston Area'}),\n",
       " ('us:91', {'name': 'Greater Seattle Area', 'state': 'Washington'})]"
      ]
     },
     "execution_count": 48,
     "metadata": {},
     "output_type": "execute_result"
    }
   ],
   "source": [
    "cur.execute(\"drop table if exists regions\")\n",
    "cur.execute(\"create table regions (id text primary key, doc jsonb)\")\n",
    "cur.executemany(\n",
    "    \"insert into regions (id, doc) values (%s, %s)\",\n",
    "    [\n",
    "        (\"us:7\", psycopg.types.json.Jsonb(\n",
    "            {\"name\": \"Greater Boston Area\"})),\n",
    "        (\"us:91\", psycopg.types.json.Jsonb(\n",
    "            {\"name\": \"Greater Seattle Area\", \"state\": \"Washington\"}))\n",
    "    ]\n",
    ")\n",
    "cur.execute(\"select id, doc from regions\")\n",
    "cur.fetchall()"
   ]
  },
  {
   "cell_type": "markdown",
   "id": "47144b66-e7e0-4de0-a806-84b3b01ce0ae",
   "metadata": {},
   "source": [
    "Wir löschen die Tabelle `users` und legen sie neu an:"
   ]
  },
  {
   "cell_type": "code",
   "execution_count": 49,
   "id": "3afda52b-7a5a-476d-a994-22ef6ab42788",
   "metadata": {},
   "outputs": [
    {
     "data": {
      "text/plain": [
       "[(251,\n",
       "  131,\n",
       "  'us:91',\n",
       "  {'summary': 'Co-chair of the Bill & Melinda Gates... Active blogger.',\n",
       "   'education': [{'end': 1975,\n",
       "     'start': 1973,\n",
       "     'school_name': 'Harvard University'},\n",
       "    {'school_name': 'Lakeside School, Seattle'}],\n",
       "   'last_name': 'Gates',\n",
       "   'positions': [{'job_title': 'Co-chair',\n",
       "     'organization': 'Bill & Melinda Gates Foundation'},\n",
       "    {'job_title': 'Co-founder, Chairman', 'organization': 'Microsoft'}],\n",
       "   'first_name': 'Bill',\n",
       "   'contact_info': {'blog': 'https://www.gatesnotes.com/',\n",
       "    'twitter': 'https://twitter.com/BillGates'}})]"
      ]
     },
     "execution_count": 49,
     "metadata": {},
     "output_type": "execute_result"
    }
   ],
   "source": [
    "cur.execute(\"drop table if exists users\")\n",
    "cur.execute(\"\"\"\n",
    "    create table users (\n",
    "        id integer primary key,\n",
    "        industry_id integer references industries(id),\n",
    "        region_id text references regions(id),\n",
    "        doc jsonb\n",
    "    )\n",
    "\"\"\")\n",
    "cur.execute(\n",
    "    \"insert into users (id, industry_id, region_id, doc) values (%s, %s, %s, %s)\",\n",
    "    (251, 131, \"us:91\", psycopg.types.json.Jsonb({\n",
    "        \"first_name\": \"Bill\",\n",
    "        \"last_name\": \"Gates\",\n",
    "        \"summary\": \"Co-chair of the Bill & Melinda Gates... Active blogger.\",\n",
    "        \"positions\": [\n",
    "            {\"job_title\": \"Co-chair\",\n",
    "             \"organization\": \"Bill & Melinda Gates Foundation\"},\n",
    "            {\"job_title\": \"Co-founder, Chairman\", \"organization\": \"Microsoft\"}\n",
    "        ],\n",
    "        \"education\": [\n",
    "            {\"school_name\": \"Harvard University\", \"start\": 1973, \"end\": 1975},\n",
    "            {\"school_name\": \"Lakeside School, Seattle\"}\n",
    "        ],\n",
    "        \"contact_info\": {\n",
    "            \"blog\": \"https://www.gatesnotes.com/\",\n",
    "            \"twitter\": \"https://twitter.com/BillGates\"\n",
    "        }\n",
    "    }))\n",
    ")\n",
    "cur.execute(\"select id, industry_id, region_id, doc from users\")\n",
    "cur.fetchall()"
   ]
  },
  {
   "cell_type": "markdown",
   "id": "694d0263-3d1d-43b8-a578-9a8e6c8acf20",
   "metadata": {},
   "source": [
    "**Achtung:** Das Löschen der Tabelle `users` ist natürlich mit Datenverlust verbunden. Wenn sie also bereits wertvolle Nutzer:innen-Daten gesammelt haben, sollten Sie sich eine bessere Migrationsstrategie überlegen."
   ]
  },
  {
   "cell_type": "markdown",
   "id": "7bb662b0-42f7-4aa0-9874-8d29dcc2ce7b",
   "metadata": {},
   "source": [
    "Durch die Kombination von relationalem Datenmodell (Spalten für Primär- und Fremdschlüssel) und dokumentorientiertem Datenmodell (Spalten für Dokumente), haben wir eine teilweise Normalisierung der Nutzer:innen-Daten erreicht und können trotzdem weiterhin alle relevanten Nutzer:innen-Merkmale in einer Abfrage abfragen:"
   ]
  },
  {
   "cell_type": "code",
   "execution_count": 50,
   "id": "9f5b6382-c504-4a55-b687-294cfe0a2b19",
   "metadata": {},
   "outputs": [
    {
     "data": {
      "text/plain": [
       "[('Gates', 'Greater Seattle Area')]"
      ]
     },
     "execution_count": 50,
     "metadata": {},
     "output_type": "execute_result"
    }
   ],
   "source": [
    "cur.execute(\"\"\"\n",
    "    select u.doc['last_name'], r.doc['name']\n",
    "    from users u join regions r on u.region_id = r.id\n",
    "    where u.id = 251\n",
    "\"\"\")\n",
    "cur.fetchall()"
   ]
  },
  {
   "cell_type": "markdown",
   "id": "6bf106cf-03ca-49a7-88c0-bf09fa1ae696",
   "metadata": {},
   "source": [
    "Mit dem Ende unseres Beispiels schließen wir Cursor und Datenbankverbindung. Die PostgreSQL-Instanz kann dann die entsprechenenden Ressourcen freigeben."
   ]
  },
  {
   "cell_type": "code",
   "execution_count": 51,
   "id": "491896a1-31df-4d63-80f2-c7b3ac239cd0",
   "metadata": {},
   "outputs": [],
   "source": [
    "cur.close()\n",
    "conn.close()"
   ]
  },
  {
   "cell_type": "markdown",
   "id": "09be3e80-dab8-4299-8859-762062c0f0a6",
   "metadata": {
    "tags": []
   },
   "source": [
    "## Zusammenfassung und Ausblick"
   ]
  },
  {
   "cell_type": "markdown",
   "id": "6ef72a2c-7390-40cb-9678-4c39625e4c9f",
   "metadata": {
    "jp-MarkdownHeadingCollapsed": true,
    "tags": []
   },
   "source": [
    "**Dokumentenorientierte Datenbankmanagementsysteme**, die JSON als logisches Datenmodell nutzen, ermöglichen die flexible Verwaltung von JSON-Dokumenten. Indizes ermöglichen die schnelle Abfrage von JSON-Dokumenten(siehe nächste Vorlesung). Ein Schema kann zum Beispiel mithilfe des JSON-Schema-Standards festgelegt werden, muss aber von der Anwendung selbst enforciert werden."
   ]
  },
  {
   "cell_type": "markdown",
   "id": "41441d70-6214-47c0-a22b-a2245c38b0aa",
   "metadata": {},
   "source": [
    "**Relationale Datenbanksysteme** unterstützen JSON-Dokumente als Erweiterung ihres relationalen Datenmodells.\n",
    "Seit 2016 ist diese Unterstützung Teil des SQL-Sprachstandards. Geeignete Indizes ermöglichen die schnelle Abfrage von JSON-Dokumenten (siehe nächste Vorlesung).\n",
    "\n",
    "Das relationale Datenmodell ermöglicht\n",
    "- die starre Modellierung von Entitäten und Beziehungen (in Form eines relationalen Schemas) und\n",
    "- die Abfrage von Informationen über merere Entitätentypen und Beziehungstypen hinweg.\n",
    "\n",
    "Die Erweiterung um (JSON-)Dokumente ermöglicht (sofern das relationale Schema Spalten vom Typ Dokument vorsieht)\n",
    "- die flexible Erweiterung von Entitäten und Beziehungen um zusätzliche Attribute und\n",
    "- das flexible Hinzufügen von One-to-Many-Beziehungen zu Entitäten eines bereits vorhandenen Entitätentyps."
   ]
  },
  {
   "cell_type": "markdown",
   "id": "94566bbc-efcd-424f-876a-1954d4b50118",
   "metadata": {
    "tags": []
   },
   "source": [
    "### Weiterführende Literatur"
   ]
  },
  {
   "cell_type": "markdown",
   "id": "8f9997e9-bafc-4e00-b7f0-011262ad9578",
   "metadata": {},
   "source": [
    "- Martin Kleppmann (2015). *Designing Data-Intensive Applications.* Sebastopol, CA: O'Reilly.\n",
    "- [MongoDB Manual (Version 4.4)](https://www.mongodb.com/docs/v4.4/)\n",
    "- [PostgreSQL: Documentation: 14](https://www.postgresql.org/docs/14/index.html)"
   ]
  }
 ],
 "metadata": {
  "kernelspec": {
   "display_name": "Python 3 (ipykernel)",
   "language": "python",
   "name": "python3"
  },
  "language_info": {
   "codemirror_mode": {
    "name": "ipython",
    "version": 3
   },
   "file_extension": ".py",
   "mimetype": "text/x-python",
   "name": "python",
   "nbconvert_exporter": "python",
   "pygments_lexer": "ipython3",
   "version": "3.9.12"
  },
  "toc-autonumbering": true,
  "toc-showmarkdowntxt": false,
  "toc-showtags": false
 },
 "nbformat": 4,
 "nbformat_minor": 5
}
